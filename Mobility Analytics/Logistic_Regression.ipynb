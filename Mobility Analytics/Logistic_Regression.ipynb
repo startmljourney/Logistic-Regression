{
 "cells": [
  {
   "cell_type": "code",
   "execution_count": 1,
   "metadata": {},
   "outputs": [],
   "source": [
    "import numpy as np\n",
    "import pandas as pd\n",
    "import seaborn as sns\n",
    "import matplotlib.pyplot as plt\n",
    "from sklearn.preprocessing import Normalizer\n",
    "from sklearn.model_selection import train_test_split as tts"
   ]
  },
  {
   "cell_type": "markdown",
   "metadata": {},
   "source": [
    "# Loading Data Set"
   ]
  },
  {
   "cell_type": "code",
   "execution_count": 2,
   "metadata": {},
   "outputs": [],
   "source": [
    "train=pd.read_csv('train.csv')\n",
    "test=pd.read_csv('test.csv')"
   ]
  },
  {
   "cell_type": "markdown",
   "metadata": {},
   "source": [
    "# Extracting Basic Information about Data"
   ]
  },
  {
   "cell_type": "code",
   "execution_count": 3,
   "metadata": {},
   "outputs": [
    {
     "data": {
      "text/html": [
       "<div>\n",
       "<style scoped>\n",
       "    .dataframe tbody tr th:only-of-type {\n",
       "        vertical-align: middle;\n",
       "    }\n",
       "\n",
       "    .dataframe tbody tr th {\n",
       "        vertical-align: top;\n",
       "    }\n",
       "\n",
       "    .dataframe thead th {\n",
       "        text-align: right;\n",
       "    }\n",
       "</style>\n",
       "<table border=\"1\" class=\"dataframe\">\n",
       "  <thead>\n",
       "    <tr style=\"text-align: right;\">\n",
       "      <th></th>\n",
       "      <th>Trip_ID</th>\n",
       "      <th>Trip_Distance</th>\n",
       "      <th>Type_of_Cab</th>\n",
       "      <th>Customer_Since_Months</th>\n",
       "      <th>Life_Style_Index</th>\n",
       "      <th>Confidence_Life_Style_Index</th>\n",
       "      <th>Destination_Type</th>\n",
       "      <th>Customer_Rating</th>\n",
       "      <th>Cancellation_Last_1Month</th>\n",
       "      <th>Var1</th>\n",
       "      <th>Var2</th>\n",
       "      <th>Var3</th>\n",
       "      <th>Gender</th>\n",
       "      <th>Surge_Pricing_Type</th>\n",
       "    </tr>\n",
       "  </thead>\n",
       "  <tbody>\n",
       "    <tr>\n",
       "      <th>0</th>\n",
       "      <td>T0005689460</td>\n",
       "      <td>6.77</td>\n",
       "      <td>B</td>\n",
       "      <td>1.0</td>\n",
       "      <td>2.42769</td>\n",
       "      <td>A</td>\n",
       "      <td>A</td>\n",
       "      <td>3.90500</td>\n",
       "      <td>0</td>\n",
       "      <td>40.0</td>\n",
       "      <td>46</td>\n",
       "      <td>60</td>\n",
       "      <td>Female</td>\n",
       "      <td>2</td>\n",
       "    </tr>\n",
       "    <tr>\n",
       "      <th>1</th>\n",
       "      <td>T0005689461</td>\n",
       "      <td>29.47</td>\n",
       "      <td>B</td>\n",
       "      <td>10.0</td>\n",
       "      <td>2.78245</td>\n",
       "      <td>B</td>\n",
       "      <td>A</td>\n",
       "      <td>3.45000</td>\n",
       "      <td>0</td>\n",
       "      <td>38.0</td>\n",
       "      <td>56</td>\n",
       "      <td>78</td>\n",
       "      <td>Male</td>\n",
       "      <td>2</td>\n",
       "    </tr>\n",
       "    <tr>\n",
       "      <th>2</th>\n",
       "      <td>T0005689464</td>\n",
       "      <td>41.58</td>\n",
       "      <td>NaN</td>\n",
       "      <td>10.0</td>\n",
       "      <td>NaN</td>\n",
       "      <td>NaN</td>\n",
       "      <td>E</td>\n",
       "      <td>3.50125</td>\n",
       "      <td>2</td>\n",
       "      <td>NaN</td>\n",
       "      <td>56</td>\n",
       "      <td>77</td>\n",
       "      <td>Male</td>\n",
       "      <td>2</td>\n",
       "    </tr>\n",
       "    <tr>\n",
       "      <th>3</th>\n",
       "      <td>T0005689465</td>\n",
       "      <td>61.56</td>\n",
       "      <td>C</td>\n",
       "      <td>10.0</td>\n",
       "      <td>NaN</td>\n",
       "      <td>NaN</td>\n",
       "      <td>A</td>\n",
       "      <td>3.45375</td>\n",
       "      <td>0</td>\n",
       "      <td>NaN</td>\n",
       "      <td>52</td>\n",
       "      <td>74</td>\n",
       "      <td>Male</td>\n",
       "      <td>3</td>\n",
       "    </tr>\n",
       "    <tr>\n",
       "      <th>4</th>\n",
       "      <td>T0005689467</td>\n",
       "      <td>54.95</td>\n",
       "      <td>C</td>\n",
       "      <td>10.0</td>\n",
       "      <td>3.03453</td>\n",
       "      <td>B</td>\n",
       "      <td>A</td>\n",
       "      <td>3.40250</td>\n",
       "      <td>4</td>\n",
       "      <td>51.0</td>\n",
       "      <td>49</td>\n",
       "      <td>102</td>\n",
       "      <td>Male</td>\n",
       "      <td>2</td>\n",
       "    </tr>\n",
       "  </tbody>\n",
       "</table>\n",
       "</div>"
      ],
      "text/plain": [
       "       Trip_ID  Trip_Distance Type_of_Cab  Customer_Since_Months  \\\n",
       "0  T0005689460           6.77           B                    1.0   \n",
       "1  T0005689461          29.47           B                   10.0   \n",
       "2  T0005689464          41.58         NaN                   10.0   \n",
       "3  T0005689465          61.56           C                   10.0   \n",
       "4  T0005689467          54.95           C                   10.0   \n",
       "\n",
       "   Life_Style_Index Confidence_Life_Style_Index Destination_Type  \\\n",
       "0           2.42769                           A                A   \n",
       "1           2.78245                           B                A   \n",
       "2               NaN                         NaN                E   \n",
       "3               NaN                         NaN                A   \n",
       "4           3.03453                           B                A   \n",
       "\n",
       "   Customer_Rating  Cancellation_Last_1Month  Var1  Var2  Var3  Gender  \\\n",
       "0          3.90500                         0  40.0    46    60  Female   \n",
       "1          3.45000                         0  38.0    56    78    Male   \n",
       "2          3.50125                         2   NaN    56    77    Male   \n",
       "3          3.45375                         0   NaN    52    74    Male   \n",
       "4          3.40250                         4  51.0    49   102    Male   \n",
       "\n",
       "   Surge_Pricing_Type  \n",
       "0                   2  \n",
       "1                   2  \n",
       "2                   2  \n",
       "3                   3  \n",
       "4                   2  "
      ]
     },
     "execution_count": 3,
     "metadata": {},
     "output_type": "execute_result"
    }
   ],
   "source": [
    "train.head()"
   ]
  },
  {
   "cell_type": "code",
   "execution_count": 4,
   "metadata": {},
   "outputs": [
    {
     "data": {
      "text/html": [
       "<div>\n",
       "<style scoped>\n",
       "    .dataframe tbody tr th:only-of-type {\n",
       "        vertical-align: middle;\n",
       "    }\n",
       "\n",
       "    .dataframe tbody tr th {\n",
       "        vertical-align: top;\n",
       "    }\n",
       "\n",
       "    .dataframe thead th {\n",
       "        text-align: right;\n",
       "    }\n",
       "</style>\n",
       "<table border=\"1\" class=\"dataframe\">\n",
       "  <thead>\n",
       "    <tr style=\"text-align: right;\">\n",
       "      <th></th>\n",
       "      <th>Trip_Distance</th>\n",
       "      <th>Customer_Since_Months</th>\n",
       "      <th>Life_Style_Index</th>\n",
       "      <th>Customer_Rating</th>\n",
       "      <th>Cancellation_Last_1Month</th>\n",
       "      <th>Var1</th>\n",
       "      <th>Var2</th>\n",
       "      <th>Var3</th>\n",
       "      <th>Surge_Pricing_Type</th>\n",
       "    </tr>\n",
       "  </thead>\n",
       "  <tbody>\n",
       "    <tr>\n",
       "      <th>count</th>\n",
       "      <td>131662.000000</td>\n",
       "      <td>125742.000000</td>\n",
       "      <td>111469.000000</td>\n",
       "      <td>131662.000000</td>\n",
       "      <td>131662.000000</td>\n",
       "      <td>60632.000000</td>\n",
       "      <td>131662.000000</td>\n",
       "      <td>131662.000000</td>\n",
       "      <td>131662.000000</td>\n",
       "    </tr>\n",
       "    <tr>\n",
       "      <th>mean</th>\n",
       "      <td>44.200909</td>\n",
       "      <td>6.016661</td>\n",
       "      <td>2.802064</td>\n",
       "      <td>2.849458</td>\n",
       "      <td>0.782838</td>\n",
       "      <td>64.202698</td>\n",
       "      <td>51.202800</td>\n",
       "      <td>75.099019</td>\n",
       "      <td>2.155747</td>\n",
       "    </tr>\n",
       "    <tr>\n",
       "      <th>std</th>\n",
       "      <td>25.522882</td>\n",
       "      <td>3.626887</td>\n",
       "      <td>0.225796</td>\n",
       "      <td>0.980675</td>\n",
       "      <td>1.037559</td>\n",
       "      <td>21.820447</td>\n",
       "      <td>4.986142</td>\n",
       "      <td>11.578278</td>\n",
       "      <td>0.738164</td>\n",
       "    </tr>\n",
       "    <tr>\n",
       "      <th>min</th>\n",
       "      <td>0.310000</td>\n",
       "      <td>0.000000</td>\n",
       "      <td>1.596380</td>\n",
       "      <td>0.001250</td>\n",
       "      <td>0.000000</td>\n",
       "      <td>30.000000</td>\n",
       "      <td>40.000000</td>\n",
       "      <td>52.000000</td>\n",
       "      <td>1.000000</td>\n",
       "    </tr>\n",
       "    <tr>\n",
       "      <th>25%</th>\n",
       "      <td>24.580000</td>\n",
       "      <td>3.000000</td>\n",
       "      <td>2.654730</td>\n",
       "      <td>2.152500</td>\n",
       "      <td>0.000000</td>\n",
       "      <td>46.000000</td>\n",
       "      <td>48.000000</td>\n",
       "      <td>67.000000</td>\n",
       "      <td>2.000000</td>\n",
       "    </tr>\n",
       "    <tr>\n",
       "      <th>50%</th>\n",
       "      <td>38.200000</td>\n",
       "      <td>6.000000</td>\n",
       "      <td>2.798050</td>\n",
       "      <td>2.895000</td>\n",
       "      <td>0.000000</td>\n",
       "      <td>61.000000</td>\n",
       "      <td>50.000000</td>\n",
       "      <td>74.000000</td>\n",
       "      <td>2.000000</td>\n",
       "    </tr>\n",
       "    <tr>\n",
       "      <th>75%</th>\n",
       "      <td>60.730000</td>\n",
       "      <td>10.000000</td>\n",
       "      <td>2.946780</td>\n",
       "      <td>3.582500</td>\n",
       "      <td>1.000000</td>\n",
       "      <td>80.000000</td>\n",
       "      <td>54.000000</td>\n",
       "      <td>82.000000</td>\n",
       "      <td>3.000000</td>\n",
       "    </tr>\n",
       "    <tr>\n",
       "      <th>max</th>\n",
       "      <td>109.230000</td>\n",
       "      <td>10.000000</td>\n",
       "      <td>4.875110</td>\n",
       "      <td>5.000000</td>\n",
       "      <td>8.000000</td>\n",
       "      <td>210.000000</td>\n",
       "      <td>124.000000</td>\n",
       "      <td>206.000000</td>\n",
       "      <td>3.000000</td>\n",
       "    </tr>\n",
       "  </tbody>\n",
       "</table>\n",
       "</div>"
      ],
      "text/plain": [
       "       Trip_Distance  Customer_Since_Months  Life_Style_Index  \\\n",
       "count  131662.000000          125742.000000     111469.000000   \n",
       "mean       44.200909               6.016661          2.802064   \n",
       "std        25.522882               3.626887          0.225796   \n",
       "min         0.310000               0.000000          1.596380   \n",
       "25%        24.580000               3.000000          2.654730   \n",
       "50%        38.200000               6.000000          2.798050   \n",
       "75%        60.730000              10.000000          2.946780   \n",
       "max       109.230000              10.000000          4.875110   \n",
       "\n",
       "       Customer_Rating  Cancellation_Last_1Month          Var1           Var2  \\\n",
       "count    131662.000000             131662.000000  60632.000000  131662.000000   \n",
       "mean          2.849458                  0.782838     64.202698      51.202800   \n",
       "std           0.980675                  1.037559     21.820447       4.986142   \n",
       "min           0.001250                  0.000000     30.000000      40.000000   \n",
       "25%           2.152500                  0.000000     46.000000      48.000000   \n",
       "50%           2.895000                  0.000000     61.000000      50.000000   \n",
       "75%           3.582500                  1.000000     80.000000      54.000000   \n",
       "max           5.000000                  8.000000    210.000000     124.000000   \n",
       "\n",
       "                Var3  Surge_Pricing_Type  \n",
       "count  131662.000000       131662.000000  \n",
       "mean       75.099019            2.155747  \n",
       "std        11.578278            0.738164  \n",
       "min        52.000000            1.000000  \n",
       "25%        67.000000            2.000000  \n",
       "50%        74.000000            2.000000  \n",
       "75%        82.000000            3.000000  \n",
       "max       206.000000            3.000000  "
      ]
     },
     "execution_count": 4,
     "metadata": {},
     "output_type": "execute_result"
    }
   ],
   "source": [
    "train.describe()"
   ]
  },
  {
   "cell_type": "markdown",
   "metadata": {},
   "source": [
    "### Data Dictionary"
   ]
  },
  {
   "cell_type": "markdown",
   "metadata": {},
   "source": [
    "<table border=\"1\" cellpadding=\" 1\" cellspacing=\"1\" width=\"830\">\n",
    "    <tbody>\n",
    "        <tr>\n",
    "            <td width=\"164\">\n",
    "                <p><strong>Variable</strong></p>\n",
    "            </td>\n",
    "            <td width=\"647\">\n",
    "                <p><strong>Definition</strong></p>\n",
    "            </td>\n",
    "        </tr>\n",
    "        <tr>\n",
    "            <td width=\"164\">\n",
    "                <p>Trip_ID</p>\n",
    "            </td>\n",
    "            <td width=\"647\">\n",
    "                <p>ID for TRIP (Can not be used for purposes of modelling)</p>\n",
    "            </td>\n",
    "        </tr>\n",
    "        <tr>\n",
    "            <td width=\"164\">\n",
    "                <p>Trip_Distance</p>\n",
    "            </td>\n",
    "            <td width=\"647\">\n",
    "                <p>The distance for the trip requested by the customer</p>\n",
    "            </td>\n",
    "        </tr>\n",
    "        <tr>\n",
    "            <td width=\"164\">\n",
    "                <p>Type_of_Cab</p>\n",
    "            </td>\n",
    "            <td width=\"647\">\n",
    "                <p>Category of the cab requested by the customer</p>\n",
    "            </td>\n",
    "        </tr>\n",
    "        <tr>\n",
    "            <td width=\"164\">\n",
    "                <p>Customer_Since_Months</p>\n",
    "            </td>\n",
    "            <td width=\"647\">\n",
    "                <p>Customer using cab services since n months; 0 month means current month</p>\n",
    "            </td>\n",
    "        </tr>\n",
    "        <tr>\n",
    "            <td width=\"164\">\n",
    "                <p>Life_Style_Index</p>\n",
    "            </td>\n",
    "            <td width=\"647\">\n",
    "                <p>Proprietary index created by Sigma Cabs showing lifestyle of the customer based on their behaviour</p>\n",
    "            </td>\n",
    "        </tr>\n",
    "        <tr>\n",
    "            <td width=\"164\">\n",
    "                <p>Confidence_Life_Style_Index</p>\n",
    "            </td>\n",
    "            <td width=\"647\">\n",
    "                <p>Category showing confidence on the index mentioned above</p>\n",
    "            </td>\n",
    "        </tr>\n",
    "        <tr>\n",
    "            <td width=\"164\">\n",
    "                <p>Destination_Type</p>\n",
    "            </td>\n",
    "            <td width=\"647\">\n",
    "                <p>Sigma Cabs divides any destination in one of the 14 categories.</p>\n",
    "            </td>\n",
    "        </tr>\n",
    "        <tr>\n",
    "            <td width=\"164\">\n",
    "                <p>Customer_Rating</p>\n",
    "            </td>\n",
    "            <td width=\"647\">\n",
    "                <p>Average of life time ratings of the customer till date</p>\n",
    "            </td>\n",
    "        </tr>\n",
    "        <tr>\n",
    "            <td width=\"164\">\n",
    "                <p>Cancellation_Last_1Month</p>\n",
    "            </td>\n",
    "            <td width=\"647\">\n",
    "                <p>Number of trips cancelled by the customer in last 1 month</p>\n",
    "            </td>\n",
    "        </tr>\n",
    "        <tr>\n",
    "            <td width=\"164\">\n",
    "                <p>Var1, Var2 and Var3</p>\n",
    "            </td>\n",
    "            <td width=\"647\">\n",
    "                <p>Continuous variables masked by the company. Can be used for modelling purposes</p>\n",
    "            </td>\n",
    "        </tr>\n",
    "        <tr>\n",
    "            <td width=\"164\">\n",
    "                <p>Gender</p>\n",
    "            </td>\n",
    "            <td width=\"647\">\n",
    "                <p>Gender of the customer</p>\n",
    "            </td>\n",
    "        </tr>\n",
    "        <tr>\n",
    "            <td width=\"164\">\n",
    "                <p>Surge_Pricing_Type</p>\n",
    "            </td>\n",
    "            <td width=\"647\">\n",
    "                <p>Predictor variable can be of 3 types</p>\n",
    "            </td>\n",
    "        </tr>\n",
    "    </tbody>\n",
    "</table>"
   ]
  },
  {
   "cell_type": "code",
   "execution_count": 5,
   "metadata": {},
   "outputs": [
    {
     "data": {
      "text/plain": [
       "Trip_ID                         object\n",
       "Trip_Distance                  float64\n",
       "Type_of_Cab                     object\n",
       "Customer_Since_Months          float64\n",
       "Life_Style_Index               float64\n",
       "Confidence_Life_Style_Index     object\n",
       "Destination_Type                object\n",
       "Customer_Rating                float64\n",
       "Cancellation_Last_1Month         int64\n",
       "Var1                           float64\n",
       "Var2                             int64\n",
       "Var3                             int64\n",
       "Gender                          object\n",
       "Surge_Pricing_Type               int64\n",
       "dtype: object"
      ]
     },
     "execution_count": 5,
     "metadata": {},
     "output_type": "execute_result"
    }
   ],
   "source": [
    "train.dtypes"
   ]
  },
  {
   "cell_type": "markdown",
   "metadata": {},
   "source": [
    "# Finding Anomalies in Data Set"
   ]
  },
  {
   "cell_type": "markdown",
   "metadata": {},
   "source": [
    "### 1) Missing Values"
   ]
  },
  {
   "cell_type": "code",
   "execution_count": 3,
   "metadata": {},
   "outputs": [],
   "source": [
    "Missing_Values=train.isna().sum().to_frame()"
   ]
  },
  {
   "cell_type": "code",
   "execution_count": 4,
   "metadata": {},
   "outputs": [],
   "source": [
    "Missing_Values.rename(columns={0:'Total'},inplace=True)"
   ]
  },
  {
   "cell_type": "code",
   "execution_count": 5,
   "metadata": {},
   "outputs": [],
   "source": [
    "Missing_Values['Total_Perc']=(Missing_Values.Total*100)/train.shape[0]"
   ]
  },
  {
   "cell_type": "code",
   "execution_count": 6,
   "metadata": {},
   "outputs": [
    {
     "data": {
      "text/html": [
       "<div>\n",
       "<style scoped>\n",
       "    .dataframe tbody tr th:only-of-type {\n",
       "        vertical-align: middle;\n",
       "    }\n",
       "\n",
       "    .dataframe tbody tr th {\n",
       "        vertical-align: top;\n",
       "    }\n",
       "\n",
       "    .dataframe thead th {\n",
       "        text-align: right;\n",
       "    }\n",
       "</style>\n",
       "<table border=\"1\" class=\"dataframe\">\n",
       "  <thead>\n",
       "    <tr style=\"text-align: right;\">\n",
       "      <th></th>\n",
       "      <th>Total</th>\n",
       "      <th>Total_Perc</th>\n",
       "    </tr>\n",
       "  </thead>\n",
       "  <tbody>\n",
       "    <tr>\n",
       "      <th>Trip_ID</th>\n",
       "      <td>0</td>\n",
       "      <td>0.000000</td>\n",
       "    </tr>\n",
       "    <tr>\n",
       "      <th>Trip_Distance</th>\n",
       "      <td>0</td>\n",
       "      <td>0.000000</td>\n",
       "    </tr>\n",
       "    <tr>\n",
       "      <th>Type_of_Cab</th>\n",
       "      <td>20210</td>\n",
       "      <td>15.349911</td>\n",
       "    </tr>\n",
       "    <tr>\n",
       "      <th>Customer_Since_Months</th>\n",
       "      <td>5920</td>\n",
       "      <td>4.496362</td>\n",
       "    </tr>\n",
       "    <tr>\n",
       "      <th>Life_Style_Index</th>\n",
       "      <td>20193</td>\n",
       "      <td>15.336999</td>\n",
       "    </tr>\n",
       "    <tr>\n",
       "      <th>Confidence_Life_Style_Index</th>\n",
       "      <td>20193</td>\n",
       "      <td>15.336999</td>\n",
       "    </tr>\n",
       "    <tr>\n",
       "      <th>Destination_Type</th>\n",
       "      <td>0</td>\n",
       "      <td>0.000000</td>\n",
       "    </tr>\n",
       "    <tr>\n",
       "      <th>Customer_Rating</th>\n",
       "      <td>0</td>\n",
       "      <td>0.000000</td>\n",
       "    </tr>\n",
       "    <tr>\n",
       "      <th>Cancellation_Last_1Month</th>\n",
       "      <td>0</td>\n",
       "      <td>0.000000</td>\n",
       "    </tr>\n",
       "    <tr>\n",
       "      <th>Var1</th>\n",
       "      <td>71030</td>\n",
       "      <td>53.948748</td>\n",
       "    </tr>\n",
       "    <tr>\n",
       "      <th>Var2</th>\n",
       "      <td>0</td>\n",
       "      <td>0.000000</td>\n",
       "    </tr>\n",
       "    <tr>\n",
       "      <th>Var3</th>\n",
       "      <td>0</td>\n",
       "      <td>0.000000</td>\n",
       "    </tr>\n",
       "    <tr>\n",
       "      <th>Gender</th>\n",
       "      <td>0</td>\n",
       "      <td>0.000000</td>\n",
       "    </tr>\n",
       "    <tr>\n",
       "      <th>Surge_Pricing_Type</th>\n",
       "      <td>0</td>\n",
       "      <td>0.000000</td>\n",
       "    </tr>\n",
       "  </tbody>\n",
       "</table>\n",
       "</div>"
      ],
      "text/plain": [
       "                             Total  Total_Perc\n",
       "Trip_ID                          0    0.000000\n",
       "Trip_Distance                    0    0.000000\n",
       "Type_of_Cab                  20210   15.349911\n",
       "Customer_Since_Months         5920    4.496362\n",
       "Life_Style_Index             20193   15.336999\n",
       "Confidence_Life_Style_Index  20193   15.336999\n",
       "Destination_Type                 0    0.000000\n",
       "Customer_Rating                  0    0.000000\n",
       "Cancellation_Last_1Month         0    0.000000\n",
       "Var1                         71030   53.948748\n",
       "Var2                             0    0.000000\n",
       "Var3                             0    0.000000\n",
       "Gender                           0    0.000000\n",
       "Surge_Pricing_Type               0    0.000000"
      ]
     },
     "execution_count": 6,
     "metadata": {},
     "output_type": "execute_result"
    }
   ],
   "source": [
    "Missing_Values"
   ]
  },
  {
   "cell_type": "code",
   "execution_count": 7,
   "metadata": {},
   "outputs": [
    {
     "data": {
      "text/plain": [
       "Index(['Type_of_Cab', 'Customer_Since_Months', 'Life_Style_Index',\n",
       "       'Confidence_Life_Style_Index', 'Var1'],\n",
       "      dtype='object')"
      ]
     },
     "execution_count": 7,
     "metadata": {},
     "output_type": "execute_result"
    }
   ],
   "source": [
    "Missing_Values[Missing_Values.Total!=0].index"
   ]
  },
  {
   "cell_type": "markdown",
   "metadata": {},
   "source": [
    "#### Exploring Missing Values"
   ]
  },
  {
   "cell_type": "code",
   "execution_count": 8,
   "metadata": {},
   "outputs": [],
   "source": [
    "grp_TC_SP=train.groupby('Type_of_Cab')['Surge_Pricing_Type'].agg(['count'])"
   ]
  },
  {
   "cell_type": "code",
   "execution_count": 9,
   "metadata": {},
   "outputs": [
    {
     "data": {
      "text/html": [
       "<div>\n",
       "<style scoped>\n",
       "    .dataframe tbody tr th:only-of-type {\n",
       "        vertical-align: middle;\n",
       "    }\n",
       "\n",
       "    .dataframe tbody tr th {\n",
       "        vertical-align: top;\n",
       "    }\n",
       "\n",
       "    .dataframe thead th {\n",
       "        text-align: right;\n",
       "    }\n",
       "</style>\n",
       "<table border=\"1\" class=\"dataframe\">\n",
       "  <thead>\n",
       "    <tr style=\"text-align: right;\">\n",
       "      <th></th>\n",
       "      <th>count</th>\n",
       "    </tr>\n",
       "    <tr>\n",
       "      <th>Type_of_Cab</th>\n",
       "      <th></th>\n",
       "    </tr>\n",
       "  </thead>\n",
       "  <tbody>\n",
       "    <tr>\n",
       "      <th>B</th>\n",
       "      <td>31136</td>\n",
       "    </tr>\n",
       "    <tr>\n",
       "      <th>C</th>\n",
       "      <td>28122</td>\n",
       "    </tr>\n",
       "    <tr>\n",
       "      <th>A</th>\n",
       "      <td>21569</td>\n",
       "    </tr>\n",
       "    <tr>\n",
       "      <th>D</th>\n",
       "      <td>18991</td>\n",
       "    </tr>\n",
       "    <tr>\n",
       "      <th>E</th>\n",
       "      <td>11634</td>\n",
       "    </tr>\n",
       "  </tbody>\n",
       "</table>\n",
       "</div>"
      ],
      "text/plain": [
       "             count\n",
       "Type_of_Cab       \n",
       "B            31136\n",
       "C            28122\n",
       "A            21569\n",
       "D            18991\n",
       "E            11634"
      ]
     },
     "execution_count": 9,
     "metadata": {},
     "output_type": "execute_result"
    }
   ],
   "source": [
    "grp_TC_SP.sort_values(by='count',ascending=False)"
   ]
  },
  {
   "cell_type": "code",
   "execution_count": 10,
   "metadata": {},
   "outputs": [],
   "source": [
    "grp_TC_cont=train.groupby('Type_of_Cab')[['Trip_Distance',\n",
    "                                        'Customer_Since_Months',\n",
    "                                        'Life_Style_Index',\n",
    "                                        'Confidence_Life_Style_Index',\n",
    "                                        'Customer_Rating',\n",
    "                                        'Cancellation_Last_1Month',\n",
    "                                        'Var1',\n",
    "                                        'Var2',\n",
    "                                        'Var3'\n",
    "                                       \n",
    "                                       ]].agg(['median','count'])"
   ]
  },
  {
   "cell_type": "code",
   "execution_count": 11,
   "metadata": {},
   "outputs": [
    {
     "data": {
      "text/html": [
       "<div>\n",
       "<style scoped>\n",
       "    .dataframe tbody tr th:only-of-type {\n",
       "        vertical-align: middle;\n",
       "    }\n",
       "\n",
       "    .dataframe tbody tr th {\n",
       "        vertical-align: top;\n",
       "    }\n",
       "\n",
       "    .dataframe thead tr th {\n",
       "        text-align: left;\n",
       "    }\n",
       "\n",
       "    .dataframe thead tr:last-of-type th {\n",
       "        text-align: right;\n",
       "    }\n",
       "</style>\n",
       "<table border=\"1\" class=\"dataframe\">\n",
       "  <thead>\n",
       "    <tr>\n",
       "      <th></th>\n",
       "      <th colspan=\"2\" halign=\"left\">Trip_Distance</th>\n",
       "      <th colspan=\"2\" halign=\"left\">Customer_Since_Months</th>\n",
       "      <th colspan=\"2\" halign=\"left\">Life_Style_Index</th>\n",
       "      <th colspan=\"2\" halign=\"left\">Customer_Rating</th>\n",
       "      <th colspan=\"2\" halign=\"left\">Cancellation_Last_1Month</th>\n",
       "      <th colspan=\"2\" halign=\"left\">Var1</th>\n",
       "      <th colspan=\"2\" halign=\"left\">Var2</th>\n",
       "      <th colspan=\"2\" halign=\"left\">Var3</th>\n",
       "    </tr>\n",
       "    <tr>\n",
       "      <th></th>\n",
       "      <th>median</th>\n",
       "      <th>count</th>\n",
       "      <th>median</th>\n",
       "      <th>count</th>\n",
       "      <th>median</th>\n",
       "      <th>count</th>\n",
       "      <th>median</th>\n",
       "      <th>count</th>\n",
       "      <th>median</th>\n",
       "      <th>count</th>\n",
       "      <th>median</th>\n",
       "      <th>count</th>\n",
       "      <th>median</th>\n",
       "      <th>count</th>\n",
       "      <th>median</th>\n",
       "      <th>count</th>\n",
       "    </tr>\n",
       "    <tr>\n",
       "      <th>Type_of_Cab</th>\n",
       "      <th></th>\n",
       "      <th></th>\n",
       "      <th></th>\n",
       "      <th></th>\n",
       "      <th></th>\n",
       "      <th></th>\n",
       "      <th></th>\n",
       "      <th></th>\n",
       "      <th></th>\n",
       "      <th></th>\n",
       "      <th></th>\n",
       "      <th></th>\n",
       "      <th></th>\n",
       "      <th></th>\n",
       "      <th></th>\n",
       "      <th></th>\n",
       "    </tr>\n",
       "  </thead>\n",
       "  <tbody>\n",
       "    <tr>\n",
       "      <th>A</th>\n",
       "      <td>38.330</td>\n",
       "      <td>21569</td>\n",
       "      <td>6.0</td>\n",
       "      <td>20639</td>\n",
       "      <td>2.84006</td>\n",
       "      <td>18191</td>\n",
       "      <td>3.076250</td>\n",
       "      <td>21569</td>\n",
       "      <td>0</td>\n",
       "      <td>21569</td>\n",
       "      <td>62.0</td>\n",
       "      <td>8095</td>\n",
       "      <td>50</td>\n",
       "      <td>21569</td>\n",
       "      <td>74</td>\n",
       "      <td>21569</td>\n",
       "    </tr>\n",
       "    <tr>\n",
       "      <th>B</th>\n",
       "      <td>36.575</td>\n",
       "      <td>31136</td>\n",
       "      <td>6.0</td>\n",
       "      <td>29826</td>\n",
       "      <td>2.79593</td>\n",
       "      <td>26375</td>\n",
       "      <td>2.950000</td>\n",
       "      <td>31136</td>\n",
       "      <td>0</td>\n",
       "      <td>31136</td>\n",
       "      <td>61.0</td>\n",
       "      <td>14346</td>\n",
       "      <td>50</td>\n",
       "      <td>31136</td>\n",
       "      <td>73</td>\n",
       "      <td>31136</td>\n",
       "    </tr>\n",
       "    <tr>\n",
       "      <th>C</th>\n",
       "      <td>37.560</td>\n",
       "      <td>28122</td>\n",
       "      <td>6.0</td>\n",
       "      <td>26855</td>\n",
       "      <td>2.77981</td>\n",
       "      <td>23785</td>\n",
       "      <td>2.833750</td>\n",
       "      <td>28122</td>\n",
       "      <td>1</td>\n",
       "      <td>28122</td>\n",
       "      <td>61.0</td>\n",
       "      <td>13651</td>\n",
       "      <td>50</td>\n",
       "      <td>28122</td>\n",
       "      <td>73</td>\n",
       "      <td>28122</td>\n",
       "    </tr>\n",
       "    <tr>\n",
       "      <th>D</th>\n",
       "      <td>40.930</td>\n",
       "      <td>18991</td>\n",
       "      <td>6.0</td>\n",
       "      <td>18092</td>\n",
       "      <td>2.78175</td>\n",
       "      <td>16064</td>\n",
       "      <td>2.762500</td>\n",
       "      <td>18991</td>\n",
       "      <td>1</td>\n",
       "      <td>18991</td>\n",
       "      <td>60.0</td>\n",
       "      <td>9616</td>\n",
       "      <td>50</td>\n",
       "      <td>18991</td>\n",
       "      <td>73</td>\n",
       "      <td>18991</td>\n",
       "    </tr>\n",
       "    <tr>\n",
       "      <th>E</th>\n",
       "      <td>46.155</td>\n",
       "      <td>11634</td>\n",
       "      <td>6.0</td>\n",
       "      <td>11069</td>\n",
       "      <td>2.79869</td>\n",
       "      <td>9885</td>\n",
       "      <td>2.764375</td>\n",
       "      <td>11634</td>\n",
       "      <td>1</td>\n",
       "      <td>11634</td>\n",
       "      <td>60.0</td>\n",
       "      <td>5724</td>\n",
       "      <td>50</td>\n",
       "      <td>11634</td>\n",
       "      <td>73</td>\n",
       "      <td>11634</td>\n",
       "    </tr>\n",
       "  </tbody>\n",
       "</table>\n",
       "</div>"
      ],
      "text/plain": [
       "            Trip_Distance        Customer_Since_Months         \\\n",
       "                   median  count                median  count   \n",
       "Type_of_Cab                                                     \n",
       "A                  38.330  21569                   6.0  20639   \n",
       "B                  36.575  31136                   6.0  29826   \n",
       "C                  37.560  28122                   6.0  26855   \n",
       "D                  40.930  18991                   6.0  18092   \n",
       "E                  46.155  11634                   6.0  11069   \n",
       "\n",
       "            Life_Style_Index        Customer_Rating         \\\n",
       "                      median  count          median  count   \n",
       "Type_of_Cab                                                  \n",
       "A                    2.84006  18191        3.076250  21569   \n",
       "B                    2.79593  26375        2.950000  31136   \n",
       "C                    2.77981  23785        2.833750  28122   \n",
       "D                    2.78175  16064        2.762500  18991   \n",
       "E                    2.79869   9885        2.764375  11634   \n",
       "\n",
       "            Cancellation_Last_1Month          Var1          Var2         \\\n",
       "                              median  count median  count median  count   \n",
       "Type_of_Cab                                                               \n",
       "A                                  0  21569   62.0   8095     50  21569   \n",
       "B                                  0  31136   61.0  14346     50  31136   \n",
       "C                                  1  28122   61.0  13651     50  28122   \n",
       "D                                  1  18991   60.0   9616     50  18991   \n",
       "E                                  1  11634   60.0   5724     50  11634   \n",
       "\n",
       "              Var3         \n",
       "            median  count  \n",
       "Type_of_Cab                \n",
       "A               74  21569  \n",
       "B               73  31136  \n",
       "C               73  28122  \n",
       "D               73  18991  \n",
       "E               73  11634  "
      ]
     },
     "execution_count": 11,
     "metadata": {},
     "output_type": "execute_result"
    }
   ],
   "source": [
    "grp_TC_cont"
   ]
  },
  {
   "cell_type": "markdown",
   "metadata": {},
   "source": [
    "- Cab type E has the highest average trip distance but their service has been used less!\n",
    "- Though Average of Life Style Index is more for Cab Type A, which also has received high average customer rating"
   ]
  },
  {
   "cell_type": "code",
   "execution_count": 12,
   "metadata": {},
   "outputs": [],
   "source": [
    "grp_TC_cont_max=train.groupby('Type_of_Cab',as_index=False)[['Trip_Distance',\n",
    "                                        'Customer_Since_Months',\n",
    "                                        'Life_Style_Index',\n",
    "                                        'Confidence_Life_Style_Index',\n",
    "                                        'Customer_Rating',\n",
    "                                        'Cancellation_Last_1Month',\n",
    "                                        'Var1',\n",
    "                                        'Var2',\n",
    "                                        'Var3'\n",
    "                                       \n",
    "                                       ]].agg(['max'])"
   ]
  },
  {
   "cell_type": "code",
   "execution_count": 13,
   "metadata": {},
   "outputs": [
    {
     "data": {
      "text/html": [
       "<div>\n",
       "<style scoped>\n",
       "    .dataframe tbody tr th:only-of-type {\n",
       "        vertical-align: middle;\n",
       "    }\n",
       "\n",
       "    .dataframe tbody tr th {\n",
       "        vertical-align: top;\n",
       "    }\n",
       "\n",
       "    .dataframe thead tr th {\n",
       "        text-align: left;\n",
       "    }\n",
       "\n",
       "    .dataframe thead tr:last-of-type th {\n",
       "        text-align: right;\n",
       "    }\n",
       "</style>\n",
       "<table border=\"1\" class=\"dataframe\">\n",
       "  <thead>\n",
       "    <tr>\n",
       "      <th></th>\n",
       "      <th>Trip_Distance</th>\n",
       "      <th>Customer_Since_Months</th>\n",
       "      <th>Life_Style_Index</th>\n",
       "      <th>Customer_Rating</th>\n",
       "      <th>Cancellation_Last_1Month</th>\n",
       "      <th>Var1</th>\n",
       "      <th>Var2</th>\n",
       "      <th>Var3</th>\n",
       "    </tr>\n",
       "    <tr>\n",
       "      <th></th>\n",
       "      <th>max</th>\n",
       "      <th>max</th>\n",
       "      <th>max</th>\n",
       "      <th>max</th>\n",
       "      <th>max</th>\n",
       "      <th>max</th>\n",
       "      <th>max</th>\n",
       "      <th>max</th>\n",
       "    </tr>\n",
       "    <tr>\n",
       "      <th>Type_of_Cab</th>\n",
       "      <th></th>\n",
       "      <th></th>\n",
       "      <th></th>\n",
       "      <th></th>\n",
       "      <th></th>\n",
       "      <th></th>\n",
       "      <th></th>\n",
       "      <th></th>\n",
       "    </tr>\n",
       "  </thead>\n",
       "  <tbody>\n",
       "    <tr>\n",
       "      <th>A</th>\n",
       "      <td>109.23</td>\n",
       "      <td>10.0</td>\n",
       "      <td>4.85378</td>\n",
       "      <td>5.0</td>\n",
       "      <td>8</td>\n",
       "      <td>169.0</td>\n",
       "      <td>93</td>\n",
       "      <td>140</td>\n",
       "    </tr>\n",
       "    <tr>\n",
       "      <th>B</th>\n",
       "      <td>109.23</td>\n",
       "      <td>10.0</td>\n",
       "      <td>4.59115</td>\n",
       "      <td>5.0</td>\n",
       "      <td>7</td>\n",
       "      <td>210.0</td>\n",
       "      <td>98</td>\n",
       "      <td>155</td>\n",
       "    </tr>\n",
       "    <tr>\n",
       "      <th>C</th>\n",
       "      <td>109.23</td>\n",
       "      <td>10.0</td>\n",
       "      <td>4.07072</td>\n",
       "      <td>5.0</td>\n",
       "      <td>8</td>\n",
       "      <td>179.0</td>\n",
       "      <td>124</td>\n",
       "      <td>174</td>\n",
       "    </tr>\n",
       "    <tr>\n",
       "      <th>D</th>\n",
       "      <td>109.23</td>\n",
       "      <td>10.0</td>\n",
       "      <td>4.65904</td>\n",
       "      <td>5.0</td>\n",
       "      <td>7</td>\n",
       "      <td>165.0</td>\n",
       "      <td>89</td>\n",
       "      <td>206</td>\n",
       "    </tr>\n",
       "    <tr>\n",
       "      <th>E</th>\n",
       "      <td>109.23</td>\n",
       "      <td>10.0</td>\n",
       "      <td>4.87511</td>\n",
       "      <td>5.0</td>\n",
       "      <td>7</td>\n",
       "      <td>163.0</td>\n",
       "      <td>101</td>\n",
       "      <td>137</td>\n",
       "    </tr>\n",
       "  </tbody>\n",
       "</table>\n",
       "</div>"
      ],
      "text/plain": [
       "            Trip_Distance Customer_Since_Months Life_Style_Index  \\\n",
       "                      max                   max              max   \n",
       "Type_of_Cab                                                        \n",
       "A                  109.23                  10.0          4.85378   \n",
       "B                  109.23                  10.0          4.59115   \n",
       "C                  109.23                  10.0          4.07072   \n",
       "D                  109.23                  10.0          4.65904   \n",
       "E                  109.23                  10.0          4.87511   \n",
       "\n",
       "            Customer_Rating Cancellation_Last_1Month   Var1 Var2 Var3  \n",
       "                        max                      max    max  max  max  \n",
       "Type_of_Cab                                                            \n",
       "A                       5.0                        8  169.0   93  140  \n",
       "B                       5.0                        7  210.0   98  155  \n",
       "C                       5.0                        8  179.0  124  174  \n",
       "D                       5.0                        7  165.0   89  206  \n",
       "E                       5.0                        7  163.0  101  137  "
      ]
     },
     "execution_count": 13,
     "metadata": {},
     "output_type": "execute_result"
    }
   ],
   "source": [
    "grp_TC_cont_max"
   ]
  },
  {
   "cell_type": "markdown",
   "metadata": {},
   "source": [
    "- We get maximum value of Life Style Index by cab type E\n",
    "- We also see maximum cancellation in last month for cab type A"
   ]
  },
  {
   "cell_type": "code",
   "execution_count": 14,
   "metadata": {},
   "outputs": [],
   "source": [
    "grp_TC_cont_min=train.groupby('Type_of_Cab',as_index=False)[['Trip_Distance',\n",
    "                                        'Customer_Since_Months',\n",
    "                                        'Life_Style_Index',\n",
    "                                        'Confidence_Life_Style_Index',\n",
    "                                        'Customer_Rating',\n",
    "                                        'Cancellation_Last_1Month',\n",
    "                                        'Var1',\n",
    "                                        'Var2',\n",
    "                                        'Var3'\n",
    "                                       \n",
    "                                       ]].agg(['min'])"
   ]
  },
  {
   "cell_type": "code",
   "execution_count": 15,
   "metadata": {},
   "outputs": [
    {
     "data": {
      "text/html": [
       "<div>\n",
       "<style scoped>\n",
       "    .dataframe tbody tr th:only-of-type {\n",
       "        vertical-align: middle;\n",
       "    }\n",
       "\n",
       "    .dataframe tbody tr th {\n",
       "        vertical-align: top;\n",
       "    }\n",
       "\n",
       "    .dataframe thead tr th {\n",
       "        text-align: left;\n",
       "    }\n",
       "\n",
       "    .dataframe thead tr:last-of-type th {\n",
       "        text-align: right;\n",
       "    }\n",
       "</style>\n",
       "<table border=\"1\" class=\"dataframe\">\n",
       "  <thead>\n",
       "    <tr>\n",
       "      <th></th>\n",
       "      <th>Trip_Distance</th>\n",
       "      <th>Customer_Since_Months</th>\n",
       "      <th>Life_Style_Index</th>\n",
       "      <th>Customer_Rating</th>\n",
       "      <th>Cancellation_Last_1Month</th>\n",
       "      <th>Var1</th>\n",
       "      <th>Var2</th>\n",
       "      <th>Var3</th>\n",
       "    </tr>\n",
       "    <tr>\n",
       "      <th></th>\n",
       "      <th>min</th>\n",
       "      <th>min</th>\n",
       "      <th>min</th>\n",
       "      <th>min</th>\n",
       "      <th>min</th>\n",
       "      <th>min</th>\n",
       "      <th>min</th>\n",
       "      <th>min</th>\n",
       "    </tr>\n",
       "    <tr>\n",
       "      <th>Type_of_Cab</th>\n",
       "      <th></th>\n",
       "      <th></th>\n",
       "      <th></th>\n",
       "      <th></th>\n",
       "      <th></th>\n",
       "      <th></th>\n",
       "      <th></th>\n",
       "      <th></th>\n",
       "    </tr>\n",
       "  </thead>\n",
       "  <tbody>\n",
       "    <tr>\n",
       "      <th>A</th>\n",
       "      <td>1.53</td>\n",
       "      <td>0.0</td>\n",
       "      <td>1.78604</td>\n",
       "      <td>0.00875</td>\n",
       "      <td>0</td>\n",
       "      <td>30.0</td>\n",
       "      <td>41</td>\n",
       "      <td>52</td>\n",
       "    </tr>\n",
       "    <tr>\n",
       "      <th>B</th>\n",
       "      <td>0.31</td>\n",
       "      <td>0.0</td>\n",
       "      <td>1.68789</td>\n",
       "      <td>0.00375</td>\n",
       "      <td>0</td>\n",
       "      <td>30.0</td>\n",
       "      <td>41</td>\n",
       "      <td>52</td>\n",
       "    </tr>\n",
       "    <tr>\n",
       "      <th>C</th>\n",
       "      <td>1.55</td>\n",
       "      <td>0.0</td>\n",
       "      <td>1.65696</td>\n",
       "      <td>0.00375</td>\n",
       "      <td>0</td>\n",
       "      <td>30.0</td>\n",
       "      <td>40</td>\n",
       "      <td>52</td>\n",
       "    </tr>\n",
       "    <tr>\n",
       "      <th>D</th>\n",
       "      <td>1.54</td>\n",
       "      <td>0.0</td>\n",
       "      <td>1.59638</td>\n",
       "      <td>0.00125</td>\n",
       "      <td>0</td>\n",
       "      <td>30.0</td>\n",
       "      <td>41</td>\n",
       "      <td>52</td>\n",
       "    </tr>\n",
       "    <tr>\n",
       "      <th>E</th>\n",
       "      <td>1.77</td>\n",
       "      <td>0.0</td>\n",
       "      <td>1.87361</td>\n",
       "      <td>0.00125</td>\n",
       "      <td>0</td>\n",
       "      <td>30.0</td>\n",
       "      <td>41</td>\n",
       "      <td>52</td>\n",
       "    </tr>\n",
       "  </tbody>\n",
       "</table>\n",
       "</div>"
      ],
      "text/plain": [
       "            Trip_Distance Customer_Since_Months Life_Style_Index  \\\n",
       "                      min                   min              min   \n",
       "Type_of_Cab                                                        \n",
       "A                    1.53                   0.0          1.78604   \n",
       "B                    0.31                   0.0          1.68789   \n",
       "C                    1.55                   0.0          1.65696   \n",
       "D                    1.54                   0.0          1.59638   \n",
       "E                    1.77                   0.0          1.87361   \n",
       "\n",
       "            Customer_Rating Cancellation_Last_1Month  Var1 Var2 Var3  \n",
       "                        min                      min   min  min  min  \n",
       "Type_of_Cab                                                           \n",
       "A                   0.00875                        0  30.0   41   52  \n",
       "B                   0.00375                        0  30.0   41   52  \n",
       "C                   0.00375                        0  30.0   40   52  \n",
       "D                   0.00125                        0  30.0   41   52  \n",
       "E                   0.00125                        0  30.0   41   52  "
      ]
     },
     "execution_count": 15,
     "metadata": {},
     "output_type": "execute_result"
    }
   ],
   "source": [
    "grp_TC_cont_min"
   ]
  },
  {
   "cell_type": "markdown",
   "metadata": {},
   "source": [
    "- We get minimum value of Life Style Index by cab type D\n",
    "- Minimum Trip Distance is covered by cab type B\n",
    "- Minimum Customer Rating is for Cab Type D & E\n",
    "\n",
    "**When we see over all - People generally prefer B & C type where as they do not avail much of D & E cab type.**\n",
    "\n",
    "Though there is not much of gap in cab type B & C . What we can conclude from it is probably D & E can be some premium cars\n",
    "\n",
    "Probable solution to treat the cab type missing value is to replace NaN using :\n",
    "\n",
    "- Imputing with highest frequency class ( **We will choose this for ease** )\n",
    "- We can make model for Predicting the class and using that we can impute \n",
    "\n",
    "We will do mean/median imputation for rest of the columns as they are continuous data : 'Customer_Since_Months', 'Life_Style_Index','Confidence_Life_Style_Index', 'Var1'"
   ]
  },
  {
   "cell_type": "code",
   "execution_count": 16,
   "metadata": {},
   "outputs": [],
   "source": [
    "def missing_value_treatement(data,Type,dataframe,value=None):\n",
    "    if (Type=='cont') & (value==None) :\n",
    "        value=dataframe[data].median(skipna=True)\n",
    "        return(dataframe[data].fillna(value,inplace=True))\n",
    "    elif (Type=='cont')  & (value!=None):\n",
    "        #value=dataframe[data].median(skipna=True)\n",
    "        return(dataframe[data].fillna(value,inplace=True))\n",
    "    elif (Type=='categ') & (value==None):\n",
    "        value=dataframe[data].mode(dropna=True)\n",
    "        return(dataframe[data].fillna(value,inplace=True))\n",
    "    elif (Type=='categ') & (value!=None):\n",
    "        #value=dataframe[data].mode(dropna=True)\n",
    "        return(dataframe[data].fillna(value,inplace=True))\n",
    "\n",
    "    else:\n",
    "        print('Type the correct choice')\n",
    "    #return dataframe[data]"
   ]
  },
  {
   "cell_type": "code",
   "execution_count": 17,
   "metadata": {},
   "outputs": [],
   "source": [
    "missing_value_treatement('Type_of_Cab','categ',train,'F')"
   ]
  },
  {
   "cell_type": "code",
   "execution_count": 18,
   "metadata": {},
   "outputs": [
    {
     "data": {
      "text/html": [
       "<div>\n",
       "<style scoped>\n",
       "    .dataframe tbody tr th:only-of-type {\n",
       "        vertical-align: middle;\n",
       "    }\n",
       "\n",
       "    .dataframe tbody tr th {\n",
       "        vertical-align: top;\n",
       "    }\n",
       "\n",
       "    .dataframe thead th {\n",
       "        text-align: right;\n",
       "    }\n",
       "</style>\n",
       "<table border=\"1\" class=\"dataframe\">\n",
       "  <thead>\n",
       "    <tr style=\"text-align: right;\">\n",
       "      <th></th>\n",
       "      <th>Trip_ID</th>\n",
       "      <th>Trip_Distance</th>\n",
       "      <th>Type_of_Cab</th>\n",
       "      <th>Customer_Since_Months</th>\n",
       "      <th>Life_Style_Index</th>\n",
       "      <th>Confidence_Life_Style_Index</th>\n",
       "      <th>Destination_Type</th>\n",
       "      <th>Customer_Rating</th>\n",
       "      <th>Cancellation_Last_1Month</th>\n",
       "      <th>Var1</th>\n",
       "      <th>Var2</th>\n",
       "      <th>Var3</th>\n",
       "      <th>Gender</th>\n",
       "      <th>Surge_Pricing_Type</th>\n",
       "    </tr>\n",
       "  </thead>\n",
       "  <tbody>\n",
       "    <tr>\n",
       "      <th>0</th>\n",
       "      <td>T0005689460</td>\n",
       "      <td>6.77</td>\n",
       "      <td>B</td>\n",
       "      <td>1.0</td>\n",
       "      <td>2.42769</td>\n",
       "      <td>A</td>\n",
       "      <td>A</td>\n",
       "      <td>3.90500</td>\n",
       "      <td>0</td>\n",
       "      <td>40.0</td>\n",
       "      <td>46</td>\n",
       "      <td>60</td>\n",
       "      <td>Female</td>\n",
       "      <td>2</td>\n",
       "    </tr>\n",
       "    <tr>\n",
       "      <th>1</th>\n",
       "      <td>T0005689461</td>\n",
       "      <td>29.47</td>\n",
       "      <td>B</td>\n",
       "      <td>10.0</td>\n",
       "      <td>2.78245</td>\n",
       "      <td>B</td>\n",
       "      <td>A</td>\n",
       "      <td>3.45000</td>\n",
       "      <td>0</td>\n",
       "      <td>38.0</td>\n",
       "      <td>56</td>\n",
       "      <td>78</td>\n",
       "      <td>Male</td>\n",
       "      <td>2</td>\n",
       "    </tr>\n",
       "    <tr>\n",
       "      <th>2</th>\n",
       "      <td>T0005689464</td>\n",
       "      <td>41.58</td>\n",
       "      <td>F</td>\n",
       "      <td>10.0</td>\n",
       "      <td>NaN</td>\n",
       "      <td>NaN</td>\n",
       "      <td>E</td>\n",
       "      <td>3.50125</td>\n",
       "      <td>2</td>\n",
       "      <td>NaN</td>\n",
       "      <td>56</td>\n",
       "      <td>77</td>\n",
       "      <td>Male</td>\n",
       "      <td>2</td>\n",
       "    </tr>\n",
       "    <tr>\n",
       "      <th>3</th>\n",
       "      <td>T0005689465</td>\n",
       "      <td>61.56</td>\n",
       "      <td>C</td>\n",
       "      <td>10.0</td>\n",
       "      <td>NaN</td>\n",
       "      <td>NaN</td>\n",
       "      <td>A</td>\n",
       "      <td>3.45375</td>\n",
       "      <td>0</td>\n",
       "      <td>NaN</td>\n",
       "      <td>52</td>\n",
       "      <td>74</td>\n",
       "      <td>Male</td>\n",
       "      <td>3</td>\n",
       "    </tr>\n",
       "    <tr>\n",
       "      <th>4</th>\n",
       "      <td>T0005689467</td>\n",
       "      <td>54.95</td>\n",
       "      <td>C</td>\n",
       "      <td>10.0</td>\n",
       "      <td>3.03453</td>\n",
       "      <td>B</td>\n",
       "      <td>A</td>\n",
       "      <td>3.40250</td>\n",
       "      <td>4</td>\n",
       "      <td>51.0</td>\n",
       "      <td>49</td>\n",
       "      <td>102</td>\n",
       "      <td>Male</td>\n",
       "      <td>2</td>\n",
       "    </tr>\n",
       "  </tbody>\n",
       "</table>\n",
       "</div>"
      ],
      "text/plain": [
       "       Trip_ID  Trip_Distance Type_of_Cab  Customer_Since_Months  \\\n",
       "0  T0005689460           6.77           B                    1.0   \n",
       "1  T0005689461          29.47           B                   10.0   \n",
       "2  T0005689464          41.58           F                   10.0   \n",
       "3  T0005689465          61.56           C                   10.0   \n",
       "4  T0005689467          54.95           C                   10.0   \n",
       "\n",
       "   Life_Style_Index Confidence_Life_Style_Index Destination_Type  \\\n",
       "0           2.42769                           A                A   \n",
       "1           2.78245                           B                A   \n",
       "2               NaN                         NaN                E   \n",
       "3               NaN                         NaN                A   \n",
       "4           3.03453                           B                A   \n",
       "\n",
       "   Customer_Rating  Cancellation_Last_1Month  Var1  Var2  Var3  Gender  \\\n",
       "0          3.90500                         0  40.0    46    60  Female   \n",
       "1          3.45000                         0  38.0    56    78    Male   \n",
       "2          3.50125                         2   NaN    56    77    Male   \n",
       "3          3.45375                         0   NaN    52    74    Male   \n",
       "4          3.40250                         4  51.0    49   102    Male   \n",
       "\n",
       "   Surge_Pricing_Type  \n",
       "0                   2  \n",
       "1                   2  \n",
       "2                   2  \n",
       "3                   3  \n",
       "4                   2  "
      ]
     },
     "execution_count": 18,
     "metadata": {},
     "output_type": "execute_result"
    }
   ],
   "source": [
    "train.head()"
   ]
  },
  {
   "cell_type": "code",
   "execution_count": 19,
   "metadata": {},
   "outputs": [],
   "source": [
    "missing_value_treatement('Customer_Since_Months','cont',train)"
   ]
  },
  {
   "cell_type": "code",
   "execution_count": 20,
   "metadata": {},
   "outputs": [
    {
     "data": {
      "text/plain": [
       "Trip_ID                            0\n",
       "Trip_Distance                      0\n",
       "Type_of_Cab                        0\n",
       "Customer_Since_Months              0\n",
       "Life_Style_Index               20193\n",
       "Confidence_Life_Style_Index    20193\n",
       "Destination_Type                   0\n",
       "Customer_Rating                    0\n",
       "Cancellation_Last_1Month           0\n",
       "Var1                           71030\n",
       "Var2                               0\n",
       "Var3                               0\n",
       "Gender                             0\n",
       "Surge_Pricing_Type                 0\n",
       "dtype: int64"
      ]
     },
     "execution_count": 20,
     "metadata": {},
     "output_type": "execute_result"
    }
   ],
   "source": [
    "train.isna().sum()"
   ]
  },
  {
   "cell_type": "code",
   "execution_count": 21,
   "metadata": {},
   "outputs": [
    {
     "data": {
      "text/plain": [
       "55978"
      ]
     },
     "execution_count": 21,
     "metadata": {},
     "output_type": "execute_result"
    }
   ],
   "source": [
    "train.Life_Style_Index.nunique()"
   ]
  },
  {
   "cell_type": "code",
   "execution_count": 22,
   "metadata": {},
   "outputs": [],
   "source": [
    "missing_value_treatement('Life_Style_Index','cont',train)"
   ]
  },
  {
   "cell_type": "code",
   "execution_count": 23,
   "metadata": {},
   "outputs": [
    {
     "data": {
      "text/plain": [
       "B    40355\n",
       "C    35967\n",
       "A    35147\n",
       "Name: Confidence_Life_Style_Index, dtype: int64"
      ]
     },
     "execution_count": 23,
     "metadata": {},
     "output_type": "execute_result"
    }
   ],
   "source": [
    "train.Confidence_Life_Style_Index.value_counts()"
   ]
  },
  {
   "cell_type": "code",
   "execution_count": 24,
   "metadata": {},
   "outputs": [],
   "source": [
    "missing_value_treatement('Confidence_Life_Style_Index','categ',train,'D')"
   ]
  },
  {
   "cell_type": "code",
   "execution_count": 25,
   "metadata": {},
   "outputs": [
    {
     "data": {
      "text/plain": [
       "B    40355\n",
       "C    35967\n",
       "A    35147\n",
       "D    20193\n",
       "Name: Confidence_Life_Style_Index, dtype: int64"
      ]
     },
     "execution_count": 25,
     "metadata": {},
     "output_type": "execute_result"
    }
   ],
   "source": [
    "train.Confidence_Life_Style_Index.value_counts()"
   ]
  },
  {
   "cell_type": "markdown",
   "metadata": {},
   "source": [
    "- We will drop column Var1 because it has missing values more than 50% , imputing it with median or mean would skew the model "
   ]
  },
  {
   "cell_type": "code",
   "execution_count": 26,
   "metadata": {},
   "outputs": [],
   "source": [
    "train.drop('Var1',inplace=True,axis=1)"
   ]
  },
  {
   "cell_type": "markdown",
   "metadata": {},
   "source": [
    "### 2) Outlier Detection \n",
    "\n",
    "#### An outlier is a data point that differs significantly from other observations"
   ]
  },
  {
   "cell_type": "code",
   "execution_count": 27,
   "metadata": {},
   "outputs": [
    {
     "data": {
      "text/plain": [
       "<matplotlib.axes._subplots.AxesSubplot at 0x1be00892788>"
      ]
     },
     "execution_count": 27,
     "metadata": {},
     "output_type": "execute_result"
    },
    {
     "data": {
      "image/png": "[encoded data removed]",
      "text/plain": [
       "<Figure size 432x288 with 1 Axes>"
      ]
     },
     "metadata": {
      "needs_background": "light"
     },
     "output_type": "display_data"
    }
   ],
   "source": [
    "sns.boxplot(train.Trip_Distance)"
   ]
  },
  {
   "cell_type": "code",
   "execution_count": 28,
   "metadata": {},
   "outputs": [
    {
     "data": {
      "text/plain": [
       "<matplotlib.axes._subplots.AxesSubplot at 0x1be007ce808>"
      ]
     },
     "execution_count": 28,
     "metadata": {},
     "output_type": "execute_result"
    },
    {
     "data": {
      "image/png": "[encoded data removed]",
      "text/plain": [
       "<Figure size 432x288 with 1 Axes>"
      ]
     },
     "metadata": {
      "needs_background": "light"
     },
     "output_type": "display_data"
    }
   ],
   "source": [
    "sns.boxplot(train.Customer_Since_Months)"
   ]
  },
  {
   "cell_type": "code",
   "execution_count": 29,
   "metadata": {},
   "outputs": [
    {
     "data": {
      "text/plain": [
       "<matplotlib.axes._subplots.AxesSubplot at 0x1be7d58ed48>"
      ]
     },
     "execution_count": 29,
     "metadata": {},
     "output_type": "execute_result"
    },
    {
     "data": {
      "image/png": "[encoded data removed]",
      "text/plain": [
       "<Figure size 432x288 with 1 Axes>"
      ]
     },
     "metadata": {
      "needs_background": "light"
     },
     "output_type": "display_data"
    }
   ],
   "source": [
    "sns.boxplot(train.Life_Style_Index)"
   ]
  },
  {
   "cell_type": "code",
   "execution_count": 30,
   "metadata": {},
   "outputs": [],
   "source": [
    "def treat_outlier(col,dataframe=train):\n",
    "    IQR=dataframe[col].quantile(.75) - dataframe[col].quantile(.25)\n",
    "    upper_bound=dataframe[col].quantile(.75) + (1.5*IQR)\n",
    "    lower_bound=dataframe[col].quantile(.25) - (1.5*IQR)\n",
    "    dataframe[col].clip(upper=upper_bound,lower=lower_bound,inplace=True)"
   ]
  },
  {
   "cell_type": "code",
   "execution_count": 31,
   "metadata": {},
   "outputs": [],
   "source": [
    "treat_outlier('Life_Style_Index')"
   ]
  },
  {
   "cell_type": "code",
   "execution_count": 32,
   "metadata": {},
   "outputs": [
    {
     "data": {
      "text/plain": [
       "<matplotlib.axes._subplots.AxesSubplot at 0x1be0079de48>"
      ]
     },
     "execution_count": 32,
     "metadata": {},
     "output_type": "execute_result"
    },
    {
     "data": {
      "image/png": "[encoded data removed]",
      "text/plain": [
       "<Figure size 432x288 with 1 Axes>"
      ]
     },
     "metadata": {
      "needs_background": "light"
     },
     "output_type": "display_data"
    }
   ],
   "source": [
    "sns.boxplot(train.Life_Style_Index)"
   ]
  },
  {
   "cell_type": "code",
   "execution_count": 33,
   "metadata": {},
   "outputs": [
    {
     "data": {
      "text/plain": [
       "<matplotlib.axes._subplots.AxesSubplot at 0x1be00850448>"
      ]
     },
     "execution_count": 33,
     "metadata": {},
     "output_type": "execute_result"
    },
    {
     "data": {
      "image/png": "[encoded data removed]",
      "text/plain": [
       "<Figure size 432x288 with 1 Axes>"
      ]
     },
     "metadata": {
      "needs_background": "light"
     },
     "output_type": "display_data"
    }
   ],
   "source": [
    "sns.boxplot(train.Customer_Rating)"
   ]
  },
  {
   "cell_type": "code",
   "execution_count": 34,
   "metadata": {},
   "outputs": [
    {
     "data": {
      "text/plain": [
       "<matplotlib.axes._subplots.AxesSubplot at 0x1be00910e08>"
      ]
     },
     "execution_count": 34,
     "metadata": {},
     "output_type": "execute_result"
    },
    {
     "data": {
      "image/png": "[encoded data removed]",
      "text/plain": [
       "<Figure size 432x288 with 1 Axes>"
      ]
     },
     "metadata": {
      "needs_background": "light"
     },
     "output_type": "display_data"
    }
   ],
   "source": [
    "sns.boxplot(train.Cancellation_Last_1Month)"
   ]
  },
  {
   "cell_type": "code",
   "execution_count": 35,
   "metadata": {},
   "outputs": [],
   "source": [
    "treat_outlier('Cancellation_Last_1Month')"
   ]
  },
  {
   "cell_type": "code",
   "execution_count": 36,
   "metadata": {},
   "outputs": [
    {
     "data": {
      "text/plain": [
       "<matplotlib.axes._subplots.AxesSubplot at 0x1be00780e48>"
      ]
     },
     "execution_count": 36,
     "metadata": {},
     "output_type": "execute_result"
    },
    {
     "data": {
      "image/png": "[encoded data removed]",
      "text/plain": [
       "<Figure size 432x288 with 1 Axes>"
      ]
     },
     "metadata": {
      "needs_background": "light"
     },
     "output_type": "display_data"
    }
   ],
   "source": [
    "sns.boxplot(train.Cancellation_Last_1Month)"
   ]
  },
  {
   "cell_type": "code",
   "execution_count": 37,
   "metadata": {},
   "outputs": [
    {
     "data": {
      "text/plain": [
       "<matplotlib.axes._subplots.AxesSubplot at 0x1be0096b5c8>"
      ]
     },
     "execution_count": 37,
     "metadata": {},
     "output_type": "execute_result"
    },
    {
     "data": {
      "image/png": "[encoded data removed]",
      "text/plain": [
       "<Figure size 432x288 with 1 Axes>"
      ]
     },
     "metadata": {
      "needs_background": "light"
     },
     "output_type": "display_data"
    }
   ],
   "source": [
    "sns.boxplot(train.Var2)"
   ]
  },
  {
   "cell_type": "code",
   "execution_count": 38,
   "metadata": {},
   "outputs": [],
   "source": [
    "treat_outlier('Var2')"
   ]
  },
  {
   "cell_type": "code",
   "execution_count": 39,
   "metadata": {},
   "outputs": [
    {
     "data": {
      "text/plain": [
       "<matplotlib.axes._subplots.AxesSubplot at 0x1be015baf48>"
      ]
     },
     "execution_count": 39,
     "metadata": {},
     "output_type": "execute_result"
    },
    {
     "data": {
      "image/png": "[encoded data removed]",
      "text/plain": [
       "<Figure size 432x288 with 1 Axes>"
      ]
     },
     "metadata": {
      "needs_background": "light"
     },
     "output_type": "display_data"
    }
   ],
   "source": [
    "sns.boxplot(train.Var2)"
   ]
  },
  {
   "cell_type": "code",
   "execution_count": 40,
   "metadata": {},
   "outputs": [
    {
     "data": {
      "text/plain": [
       "<matplotlib.axes._subplots.AxesSubplot at 0x1be020f15c8>"
      ]
     },
     "execution_count": 40,
     "metadata": {},
     "output_type": "execute_result"
    },
    {
     "data": {
      "image/png": "[encoded data removed]",
      "text/plain": [
       "<Figure size 432x288 with 1 Axes>"
      ]
     },
     "metadata": {
      "needs_background": "light"
     },
     "output_type": "display_data"
    }
   ],
   "source": [
    "sns.boxplot(train.Var3)"
   ]
  },
  {
   "cell_type": "code",
   "execution_count": 41,
   "metadata": {},
   "outputs": [],
   "source": [
    "treat_outlier('Var3')"
   ]
  },
  {
   "cell_type": "code",
   "execution_count": 42,
   "metadata": {},
   "outputs": [
    {
     "data": {
      "text/plain": [
       "<matplotlib.axes._subplots.AxesSubplot at 0x1be7c83dd48>"
      ]
     },
     "execution_count": 42,
     "metadata": {},
     "output_type": "execute_result"
    },
    {
     "data": {
      "image/png": "[encoded data removed]",
      "text/plain": [
       "<Figure size 432x288 with 1 Axes>"
      ]
     },
     "metadata": {
      "needs_background": "light"
     },
     "output_type": "display_data"
    }
   ],
   "source": [
    "sns.boxplot(train.Var3)"
   ]
  },
  {
   "cell_type": "markdown",
   "metadata": {},
   "source": [
    "# EDA ( **Exploratory Data Analysis**)"
   ]
  },
  {
   "cell_type": "code",
   "execution_count": 188,
   "metadata": {},
   "outputs": [
    {
     "data": {
      "text/html": [
       "<div>\n",
       "<style scoped>\n",
       "    .dataframe tbody tr th:only-of-type {\n",
       "        vertical-align: middle;\n",
       "    }\n",
       "\n",
       "    .dataframe tbody tr th {\n",
       "        vertical-align: top;\n",
       "    }\n",
       "\n",
       "    .dataframe thead th {\n",
       "        text-align: right;\n",
       "    }\n",
       "</style>\n",
       "<table border=\"1\" class=\"dataframe\">\n",
       "  <thead>\n",
       "    <tr style=\"text-align: right;\">\n",
       "      <th>Type_of_Cab</th>\n",
       "      <th>A</th>\n",
       "      <th>B</th>\n",
       "      <th>C</th>\n",
       "      <th>D</th>\n",
       "      <th>E</th>\n",
       "      <th>F</th>\n",
       "    </tr>\n",
       "    <tr>\n",
       "      <th>Surge_Pricing_Type</th>\n",
       "      <th></th>\n",
       "      <th></th>\n",
       "      <th></th>\n",
       "      <th></th>\n",
       "      <th></th>\n",
       "      <th></th>\n",
       "    </tr>\n",
       "  </thead>\n",
       "  <tbody>\n",
       "    <tr>\n",
       "      <th>1</th>\n",
       "      <td>41.240957</td>\n",
       "      <td>40.657820</td>\n",
       "      <td>39.992459</td>\n",
       "      <td>40.150404</td>\n",
       "      <td>41.211687</td>\n",
       "      <td>41.353988</td>\n",
       "    </tr>\n",
       "    <tr>\n",
       "      <th>2</th>\n",
       "      <td>41.562055</td>\n",
       "      <td>40.590158</td>\n",
       "      <td>42.232645</td>\n",
       "      <td>40.494544</td>\n",
       "      <td>41.096984</td>\n",
       "      <td>41.408025</td>\n",
       "    </tr>\n",
       "    <tr>\n",
       "      <th>3</th>\n",
       "      <td>53.869627</td>\n",
       "      <td>54.097988</td>\n",
       "      <td>46.496311</td>\n",
       "      <td>47.472285</td>\n",
       "      <td>53.423758</td>\n",
       "      <td>49.030499</td>\n",
       "    </tr>\n",
       "  </tbody>\n",
       "</table>\n",
       "</div>"
      ],
      "text/plain": [
       "Type_of_Cab                 A          B          C          D          E  \\\n",
       "Surge_Pricing_Type                                                          \n",
       "1                   41.240957  40.657820  39.992459  40.150404  41.211687   \n",
       "2                   41.562055  40.590158  42.232645  40.494544  41.096984   \n",
       "3                   53.869627  54.097988  46.496311  47.472285  53.423758   \n",
       "\n",
       "Type_of_Cab                 F  \n",
       "Surge_Pricing_Type             \n",
       "1                   41.353988  \n",
       "2                   41.408025  \n",
       "3                   49.030499  "
      ]
     },
     "execution_count": 188,
     "metadata": {},
     "output_type": "execute_result"
    }
   ],
   "source": [
    "pd.pivot_table(train,values='Trip_Distance',index='Surge_Pricing_Type',columns='Type_of_Cab')"
   ]
  },
  {
   "cell_type": "markdown",
   "metadata": {},
   "source": [
    "- For type 3 surge pricing cab Type B has highest average trip distance traveled \n",
    "- For type 2 surge pricing cab Type C has highest average trip distance traveled \n",
    "- For type 1 surge pricing cab Type F has highest average trip distance traveled \n",
    "\n",
    "**But there is no vast difference, but surge price 3 have significant higher average trip distance than other surge type**"
   ]
  },
  {
   "cell_type": "code",
   "execution_count": 189,
   "metadata": {},
   "outputs": [
    {
     "data": {
      "text/html": [
       "<div>\n",
       "<style scoped>\n",
       "    .dataframe tbody tr th:only-of-type {\n",
       "        vertical-align: middle;\n",
       "    }\n",
       "\n",
       "    .dataframe tbody tr th {\n",
       "        vertical-align: top;\n",
       "    }\n",
       "\n",
       "    .dataframe thead th {\n",
       "        text-align: right;\n",
       "    }\n",
       "</style>\n",
       "<table border=\"1\" class=\"dataframe\">\n",
       "  <thead>\n",
       "    <tr style=\"text-align: right;\">\n",
       "      <th>Type_of_Cab</th>\n",
       "      <th>A</th>\n",
       "      <th>B</th>\n",
       "      <th>C</th>\n",
       "      <th>D</th>\n",
       "      <th>E</th>\n",
       "      <th>F</th>\n",
       "    </tr>\n",
       "    <tr>\n",
       "      <th>Surge_Pricing_Type</th>\n",
       "      <th></th>\n",
       "      <th></th>\n",
       "      <th></th>\n",
       "      <th></th>\n",
       "      <th></th>\n",
       "      <th></th>\n",
       "    </tr>\n",
       "  </thead>\n",
       "  <tbody>\n",
       "    <tr>\n",
       "      <th>1</th>\n",
       "      <td>2.842294</td>\n",
       "      <td>2.821276</td>\n",
       "      <td>2.832851</td>\n",
       "      <td>2.833783</td>\n",
       "      <td>2.831828</td>\n",
       "      <td>2.840499</td>\n",
       "    </tr>\n",
       "    <tr>\n",
       "      <th>2</th>\n",
       "      <td>2.790586</td>\n",
       "      <td>2.793311</td>\n",
       "      <td>2.784871</td>\n",
       "      <td>2.784861</td>\n",
       "      <td>2.791007</td>\n",
       "      <td>2.792234</td>\n",
       "    </tr>\n",
       "    <tr>\n",
       "      <th>3</th>\n",
       "      <td>2.801970</td>\n",
       "      <td>2.807570</td>\n",
       "      <td>2.788261</td>\n",
       "      <td>2.785789</td>\n",
       "      <td>2.798678</td>\n",
       "      <td>2.788164</td>\n",
       "    </tr>\n",
       "  </tbody>\n",
       "</table>\n",
       "</div>"
      ],
      "text/plain": [
       "Type_of_Cab                A         B         C         D         E         F\n",
       "Surge_Pricing_Type                                                            \n",
       "1                   2.842294  2.821276  2.832851  2.833783  2.831828  2.840499\n",
       "2                   2.790586  2.793311  2.784871  2.784861  2.791007  2.792234\n",
       "3                   2.801970  2.807570  2.788261  2.785789  2.798678  2.788164"
      ]
     },
     "execution_count": 189,
     "metadata": {},
     "output_type": "execute_result"
    }
   ],
   "source": [
    "pd.pivot_table(train,values='Life_Style_Index',index='Surge_Pricing_Type',columns='Type_of_Cab')"
   ]
  },
  {
   "cell_type": "markdown",
   "metadata": {},
   "source": [
    "- For type 3 surge pricing cab Type B has highest average Life Style Index \n",
    "- For type 2 surge pricing cab Type B has highest average Life Style Index \n",
    "- For type 1 surge pricing cab Type A has highest average trip distance traveled \n",
    "\n",
    "**But there is no vast difference**"
   ]
  },
  {
   "cell_type": "code",
   "execution_count": 190,
   "metadata": {},
   "outputs": [
    {
     "data": {
      "text/html": [
       "<div>\n",
       "<style scoped>\n",
       "    .dataframe tbody tr th:only-of-type {\n",
       "        vertical-align: middle;\n",
       "    }\n",
       "\n",
       "    .dataframe tbody tr th {\n",
       "        vertical-align: top;\n",
       "    }\n",
       "\n",
       "    .dataframe thead th {\n",
       "        text-align: right;\n",
       "    }\n",
       "</style>\n",
       "<table border=\"1\" class=\"dataframe\">\n",
       "  <thead>\n",
       "    <tr style=\"text-align: right;\">\n",
       "      <th>Type_of_Cab</th>\n",
       "      <th>A</th>\n",
       "      <th>B</th>\n",
       "      <th>C</th>\n",
       "      <th>D</th>\n",
       "      <th>E</th>\n",
       "      <th>F</th>\n",
       "    </tr>\n",
       "    <tr>\n",
       "      <th>Surge_Pricing_Type</th>\n",
       "      <th></th>\n",
       "      <th></th>\n",
       "      <th></th>\n",
       "      <th></th>\n",
       "      <th></th>\n",
       "      <th></th>\n",
       "    </tr>\n",
       "  </thead>\n",
       "  <tbody>\n",
       "    <tr>\n",
       "      <th>1</th>\n",
       "      <td>3.143355</td>\n",
       "      <td>3.022295</td>\n",
       "      <td>3.120223</td>\n",
       "      <td>3.118108</td>\n",
       "      <td>3.092010</td>\n",
       "      <td>3.112337</td>\n",
       "    </tr>\n",
       "    <tr>\n",
       "      <th>2</th>\n",
       "      <td>2.852984</td>\n",
       "      <td>2.902044</td>\n",
       "      <td>2.790543</td>\n",
       "      <td>2.905731</td>\n",
       "      <td>2.843580</td>\n",
       "      <td>2.860415</td>\n",
       "    </tr>\n",
       "    <tr>\n",
       "      <th>3</th>\n",
       "      <td>2.678827</td>\n",
       "      <td>2.694742</td>\n",
       "      <td>2.753025</td>\n",
       "      <td>2.670393</td>\n",
       "      <td>2.661634</td>\n",
       "      <td>2.681426</td>\n",
       "    </tr>\n",
       "  </tbody>\n",
       "</table>\n",
       "</div>"
      ],
      "text/plain": [
       "Type_of_Cab                A         B         C         D         E         F\n",
       "Surge_Pricing_Type                                                            \n",
       "1                   3.143355  3.022295  3.120223  3.118108  3.092010  3.112337\n",
       "2                   2.852984  2.902044  2.790543  2.905731  2.843580  2.860415\n",
       "3                   2.678827  2.694742  2.753025  2.670393  2.661634  2.681426"
      ]
     },
     "execution_count": 190,
     "metadata": {},
     "output_type": "execute_result"
    }
   ],
   "source": [
    "pd.pivot_table(train,values='Customer_Rating',index='Surge_Pricing_Type',columns='Type_of_Cab')"
   ]
  },
  {
   "cell_type": "markdown",
   "metadata": {},
   "source": [
    "- For type 3 surge pricing cab Type C has highest average Customer Rating\n",
    "- For type 2 surge pricing cab Type D has highest average Customer Rating \n",
    "- For type 1 surge pricing cab Type A has highest average Customer Rating \n",
    "\n",
    "**But there is no vast difference,  To notice is that only in surge price 1 there were seen significant higher average ratings than other surge type **"
   ]
  },
  {
   "cell_type": "code",
   "execution_count": 191,
   "metadata": {},
   "outputs": [
    {
     "data": {
      "text/html": [
       "<div>\n",
       "<style scoped>\n",
       "    .dataframe tbody tr th:only-of-type {\n",
       "        vertical-align: middle;\n",
       "    }\n",
       "\n",
       "    .dataframe tbody tr th {\n",
       "        vertical-align: top;\n",
       "    }\n",
       "\n",
       "    .dataframe thead th {\n",
       "        text-align: right;\n",
       "    }\n",
       "</style>\n",
       "<table border=\"1\" class=\"dataframe\">\n",
       "  <thead>\n",
       "    <tr style=\"text-align: right;\">\n",
       "      <th>Type_of_Cab</th>\n",
       "      <th>A</th>\n",
       "      <th>B</th>\n",
       "      <th>C</th>\n",
       "      <th>D</th>\n",
       "      <th>E</th>\n",
       "      <th>F</th>\n",
       "    </tr>\n",
       "    <tr>\n",
       "      <th>Surge_Pricing_Type</th>\n",
       "      <th></th>\n",
       "      <th></th>\n",
       "      <th></th>\n",
       "      <th></th>\n",
       "      <th></th>\n",
       "      <th></th>\n",
       "    </tr>\n",
       "  </thead>\n",
       "  <tbody>\n",
       "    <tr>\n",
       "      <th>1</th>\n",
       "      <td>0.479887</td>\n",
       "      <td>0.511793</td>\n",
       "      <td>0.521215</td>\n",
       "      <td>0.470892</td>\n",
       "      <td>0.473439</td>\n",
       "      <td>0.477289</td>\n",
       "    </tr>\n",
       "    <tr>\n",
       "      <th>2</th>\n",
       "      <td>0.618689</td>\n",
       "      <td>0.601878</td>\n",
       "      <td>0.717698</td>\n",
       "      <td>0.671247</td>\n",
       "      <td>0.634899</td>\n",
       "      <td>0.660613</td>\n",
       "    </tr>\n",
       "    <tr>\n",
       "      <th>3</th>\n",
       "      <td>1.054380</td>\n",
       "      <td>1.031276</td>\n",
       "      <td>0.862736</td>\n",
       "      <td>0.883458</td>\n",
       "      <td>0.952497</td>\n",
       "      <td>0.920109</td>\n",
       "    </tr>\n",
       "  </tbody>\n",
       "</table>\n",
       "</div>"
      ],
      "text/plain": [
       "Type_of_Cab                A         B         C         D         E         F\n",
       "Surge_Pricing_Type                                                            \n",
       "1                   0.479887  0.511793  0.521215  0.470892  0.473439  0.477289\n",
       "2                   0.618689  0.601878  0.717698  0.671247  0.634899  0.660613\n",
       "3                   1.054380  1.031276  0.862736  0.883458  0.952497  0.920109"
      ]
     },
     "execution_count": 191,
     "metadata": {},
     "output_type": "execute_result"
    }
   ],
   "source": [
    "pd.pivot_table(train,values='Cancellation_Last_1Month',index='Surge_Pricing_Type',columns='Type_of_Cab')"
   ]
  },
  {
   "cell_type": "markdown",
   "metadata": {},
   "source": [
    "- In surge price type 3 there were seen significant high average of cancellation, Cab Type A being Highest \n",
    "- Surge price type 1 had lowest cancellation , cab type D having the lowest amongst all "
   ]
  },
  {
   "cell_type": "code",
   "execution_count": 193,
   "metadata": {},
   "outputs": [
    {
     "data": {
      "text/html": [
       "<div>\n",
       "<style scoped>\n",
       "    .dataframe tbody tr th:only-of-type {\n",
       "        vertical-align: middle;\n",
       "    }\n",
       "\n",
       "    .dataframe tbody tr th {\n",
       "        vertical-align: top;\n",
       "    }\n",
       "\n",
       "    .dataframe thead th {\n",
       "        text-align: right;\n",
       "    }\n",
       "</style>\n",
       "<table border=\"1\" class=\"dataframe\">\n",
       "  <thead>\n",
       "    <tr style=\"text-align: right;\">\n",
       "      <th>Type_of_Cab</th>\n",
       "      <th>A</th>\n",
       "      <th>B</th>\n",
       "      <th>C</th>\n",
       "      <th>D</th>\n",
       "      <th>E</th>\n",
       "      <th>F</th>\n",
       "    </tr>\n",
       "    <tr>\n",
       "      <th>Surge_Pricing_Type</th>\n",
       "      <th></th>\n",
       "      <th></th>\n",
       "      <th></th>\n",
       "      <th></th>\n",
       "      <th></th>\n",
       "      <th></th>\n",
       "    </tr>\n",
       "  </thead>\n",
       "  <tbody>\n",
       "    <tr>\n",
       "      <th>1</th>\n",
       "      <td>51.212926</td>\n",
       "      <td>51.206791</td>\n",
       "      <td>51.145612</td>\n",
       "      <td>51.285446</td>\n",
       "      <td>51.301957</td>\n",
       "      <td>51.250654</td>\n",
       "    </tr>\n",
       "    <tr>\n",
       "      <th>2</th>\n",
       "      <td>51.047830</td>\n",
       "      <td>50.959249</td>\n",
       "      <td>51.026778</td>\n",
       "      <td>50.866587</td>\n",
       "      <td>50.738490</td>\n",
       "      <td>50.940544</td>\n",
       "    </tr>\n",
       "    <tr>\n",
       "      <th>3</th>\n",
       "      <td>51.280319</td>\n",
       "      <td>51.551986</td>\n",
       "      <td>51.092292</td>\n",
       "      <td>51.182744</td>\n",
       "      <td>51.189892</td>\n",
       "      <td>51.170924</td>\n",
       "    </tr>\n",
       "  </tbody>\n",
       "</table>\n",
       "</div>"
      ],
      "text/plain": [
       "Type_of_Cab                 A          B          C          D          E  \\\n",
       "Surge_Pricing_Type                                                          \n",
       "1                   51.212926  51.206791  51.145612  51.285446  51.301957   \n",
       "2                   51.047830  50.959249  51.026778  50.866587  50.738490   \n",
       "3                   51.280319  51.551986  51.092292  51.182744  51.189892   \n",
       "\n",
       "Type_of_Cab                 F  \n",
       "Surge_Pricing_Type             \n",
       "1                   51.250654  \n",
       "2                   50.940544  \n",
       "3                   51.170924  "
      ]
     },
     "execution_count": 193,
     "metadata": {},
     "output_type": "execute_result"
    }
   ],
   "source": [
    "pd.pivot_table(train,values='Var2',index='Surge_Pricing_Type',columns='Type_of_Cab')"
   ]
  },
  {
   "cell_type": "markdown",
   "metadata": {},
   "source": [
    "- No significant change is noticed in different surge price "
   ]
  },
  {
   "cell_type": "code",
   "execution_count": 194,
   "metadata": {},
   "outputs": [
    {
     "data": {
      "text/html": [
       "<div>\n",
       "<style scoped>\n",
       "    .dataframe tbody tr th:only-of-type {\n",
       "        vertical-align: middle;\n",
       "    }\n",
       "\n",
       "    .dataframe tbody tr th {\n",
       "        vertical-align: top;\n",
       "    }\n",
       "\n",
       "    .dataframe thead th {\n",
       "        text-align: right;\n",
       "    }\n",
       "</style>\n",
       "<table border=\"1\" class=\"dataframe\">\n",
       "  <thead>\n",
       "    <tr style=\"text-align: right;\">\n",
       "      <th>Type_of_Cab</th>\n",
       "      <th>A</th>\n",
       "      <th>B</th>\n",
       "      <th>C</th>\n",
       "      <th>D</th>\n",
       "      <th>E</th>\n",
       "      <th>F</th>\n",
       "    </tr>\n",
       "    <tr>\n",
       "      <th>Surge_Pricing_Type</th>\n",
       "      <th></th>\n",
       "      <th></th>\n",
       "      <th></th>\n",
       "      <th></th>\n",
       "      <th></th>\n",
       "      <th></th>\n",
       "    </tr>\n",
       "  </thead>\n",
       "  <tbody>\n",
       "    <tr>\n",
       "      <th>1</th>\n",
       "      <td>76.237765</td>\n",
       "      <td>75.768300</td>\n",
       "      <td>76.407425</td>\n",
       "      <td>76.200000</td>\n",
       "      <td>76.324324</td>\n",
       "      <td>76.086445</td>\n",
       "    </tr>\n",
       "    <tr>\n",
       "      <th>2</th>\n",
       "      <td>74.617139</td>\n",
       "      <td>74.693673</td>\n",
       "      <td>74.636726</td>\n",
       "      <td>74.279570</td>\n",
       "      <td>74.340239</td>\n",
       "      <td>74.748236</td>\n",
       "    </tr>\n",
       "    <tr>\n",
       "      <th>3</th>\n",
       "      <td>74.835836</td>\n",
       "      <td>75.463018</td>\n",
       "      <td>74.645533</td>\n",
       "      <td>74.606649</td>\n",
       "      <td>74.816903</td>\n",
       "      <td>74.550204</td>\n",
       "    </tr>\n",
       "  </tbody>\n",
       "</table>\n",
       "</div>"
      ],
      "text/plain": [
       "Type_of_Cab                 A          B          C          D          E  \\\n",
       "Surge_Pricing_Type                                                          \n",
       "1                   76.237765  75.768300  76.407425  76.200000  76.324324   \n",
       "2                   74.617139  74.693673  74.636726  74.279570  74.340239   \n",
       "3                   74.835836  75.463018  74.645533  74.606649  74.816903   \n",
       "\n",
       "Type_of_Cab                 F  \n",
       "Surge_Pricing_Type             \n",
       "1                   76.086445  \n",
       "2                   74.748236  \n",
       "3                   74.550204  "
      ]
     },
     "execution_count": 194,
     "metadata": {},
     "output_type": "execute_result"
    }
   ],
   "source": [
    "pd.pivot_table(train,values='Var3',index='Surge_Pricing_Type',columns='Type_of_Cab')"
   ]
  },
  {
   "cell_type": "markdown",
   "metadata": {},
   "source": [
    "- It is evident that Surge Price Type 1 have higher average var3, while other 2 types of surge price being morely same "
   ]
  },
  {
   "cell_type": "code",
   "execution_count": 197,
   "metadata": {},
   "outputs": [
    {
     "data": {
      "text/html": [
       "<div>\n",
       "<style scoped>\n",
       "    .dataframe tbody tr th:only-of-type {\n",
       "        vertical-align: middle;\n",
       "    }\n",
       "\n",
       "    .dataframe tbody tr th {\n",
       "        vertical-align: top;\n",
       "    }\n",
       "\n",
       "    .dataframe thead th {\n",
       "        text-align: right;\n",
       "    }\n",
       "</style>\n",
       "<table border=\"1\" class=\"dataframe\">\n",
       "  <thead>\n",
       "    <tr style=\"text-align: right;\">\n",
       "      <th>Confidence_Life_Style_Index</th>\n",
       "      <th>A</th>\n",
       "      <th>B</th>\n",
       "      <th>C</th>\n",
       "      <th>D</th>\n",
       "    </tr>\n",
       "    <tr>\n",
       "      <th>Surge_Pricing_Type</th>\n",
       "      <th></th>\n",
       "      <th></th>\n",
       "      <th></th>\n",
       "      <th></th>\n",
       "    </tr>\n",
       "  </thead>\n",
       "  <tbody>\n",
       "    <tr>\n",
       "      <th>1</th>\n",
       "      <td>32.030234</td>\n",
       "      <td>50.813936</td>\n",
       "      <td>46.166376</td>\n",
       "      <td>40.848046</td>\n",
       "    </tr>\n",
       "    <tr>\n",
       "      <th>2</th>\n",
       "      <td>30.713411</td>\n",
       "      <td>50.054023</td>\n",
       "      <td>43.831212</td>\n",
       "      <td>41.580882</td>\n",
       "    </tr>\n",
       "    <tr>\n",
       "      <th>3</th>\n",
       "      <td>29.826589</td>\n",
       "      <td>57.181536</td>\n",
       "      <td>50.176949</td>\n",
       "      <td>49.715511</td>\n",
       "    </tr>\n",
       "  </tbody>\n",
       "</table>\n",
       "</div>"
      ],
      "text/plain": [
       "Confidence_Life_Style_Index          A          B          C          D\n",
       "Surge_Pricing_Type                                                     \n",
       "1                            32.030234  50.813936  46.166376  40.848046\n",
       "2                            30.713411  50.054023  43.831212  41.580882\n",
       "3                            29.826589  57.181536  50.176949  49.715511"
      ]
     },
     "execution_count": 197,
     "metadata": {},
     "output_type": "execute_result"
    }
   ],
   "source": [
    "pd.pivot_table(train,values='Trip_Distance',index='Surge_Pricing_Type',columns='Confidence_Life_Style_Index')\n"
   ]
  },
  {
   "cell_type": "markdown",
   "metadata": {},
   "source": [
    "- Surge Price Type 3 has the highest average trip distance in confidence life style index in Type B"
   ]
  },
  {
   "cell_type": "code",
   "execution_count": 198,
   "metadata": {},
   "outputs": [
    {
     "data": {
      "text/html": [
       "<div>\n",
       "<style scoped>\n",
       "    .dataframe tbody tr th:only-of-type {\n",
       "        vertical-align: middle;\n",
       "    }\n",
       "\n",
       "    .dataframe tbody tr th {\n",
       "        vertical-align: top;\n",
       "    }\n",
       "\n",
       "    .dataframe thead th {\n",
       "        text-align: right;\n",
       "    }\n",
       "</style>\n",
       "<table border=\"1\" class=\"dataframe\">\n",
       "  <thead>\n",
       "    <tr style=\"text-align: right;\">\n",
       "      <th>Confidence_Life_Style_Index</th>\n",
       "      <th>A</th>\n",
       "      <th>B</th>\n",
       "      <th>C</th>\n",
       "      <th>D</th>\n",
       "    </tr>\n",
       "    <tr>\n",
       "      <th>Surge_Pricing_Type</th>\n",
       "      <th></th>\n",
       "      <th></th>\n",
       "      <th></th>\n",
       "      <th></th>\n",
       "    </tr>\n",
       "  </thead>\n",
       "  <tbody>\n",
       "    <tr>\n",
       "      <th>1</th>\n",
       "      <td>2.808197</td>\n",
       "      <td>2.873304</td>\n",
       "      <td>2.872097</td>\n",
       "      <td>2.79805</td>\n",
       "    </tr>\n",
       "    <tr>\n",
       "      <th>2</th>\n",
       "      <td>2.745201</td>\n",
       "      <td>2.816399</td>\n",
       "      <td>2.807949</td>\n",
       "      <td>2.79805</td>\n",
       "    </tr>\n",
       "    <tr>\n",
       "      <th>3</th>\n",
       "      <td>2.709125</td>\n",
       "      <td>2.815948</td>\n",
       "      <td>2.802616</td>\n",
       "      <td>2.79805</td>\n",
       "    </tr>\n",
       "  </tbody>\n",
       "</table>\n",
       "</div>"
      ],
      "text/plain": [
       "Confidence_Life_Style_Index         A         B         C        D\n",
       "Surge_Pricing_Type                                                \n",
       "1                            2.808197  2.873304  2.872097  2.79805\n",
       "2                            2.745201  2.816399  2.807949  2.79805\n",
       "3                            2.709125  2.815948  2.802616  2.79805"
      ]
     },
     "execution_count": 198,
     "metadata": {},
     "output_type": "execute_result"
    }
   ],
   "source": [
    "pd.pivot_table(train,values='Life_Style_Index',index='Surge_Pricing_Type',columns='Confidence_Life_Style_Index')\n"
   ]
  },
  {
   "cell_type": "markdown",
   "metadata": {},
   "source": [
    "- There is no major effect of Life Style Index over Surge Price Type by Confidence Life Style Index. Just a small evident high average life style index in surge price type 1 "
   ]
  },
  {
   "cell_type": "code",
   "execution_count": 199,
   "metadata": {},
   "outputs": [
    {
     "data": {
      "text/html": [
       "<div>\n",
       "<style scoped>\n",
       "    .dataframe tbody tr th:only-of-type {\n",
       "        vertical-align: middle;\n",
       "    }\n",
       "\n",
       "    .dataframe tbody tr th {\n",
       "        vertical-align: top;\n",
       "    }\n",
       "\n",
       "    .dataframe thead th {\n",
       "        text-align: right;\n",
       "    }\n",
       "</style>\n",
       "<table border=\"1\" class=\"dataframe\">\n",
       "  <thead>\n",
       "    <tr style=\"text-align: right;\">\n",
       "      <th>Confidence_Life_Style_Index</th>\n",
       "      <th>A</th>\n",
       "      <th>B</th>\n",
       "      <th>C</th>\n",
       "      <th>D</th>\n",
       "    </tr>\n",
       "    <tr>\n",
       "      <th>Surge_Pricing_Type</th>\n",
       "      <th></th>\n",
       "      <th></th>\n",
       "      <th></th>\n",
       "      <th></th>\n",
       "    </tr>\n",
       "  </thead>\n",
       "  <tbody>\n",
       "    <tr>\n",
       "      <th>1</th>\n",
       "      <td>3.196169</td>\n",
       "      <td>3.006447</td>\n",
       "      <td>3.059613</td>\n",
       "      <td>3.147710</td>\n",
       "    </tr>\n",
       "    <tr>\n",
       "      <th>2</th>\n",
       "      <td>2.962960</td>\n",
       "      <td>2.765281</td>\n",
       "      <td>2.837519</td>\n",
       "      <td>2.853438</td>\n",
       "    </tr>\n",
       "    <tr>\n",
       "      <th>3</th>\n",
       "      <td>2.839719</td>\n",
       "      <td>2.610876</td>\n",
       "      <td>2.717383</td>\n",
       "      <td>2.678760</td>\n",
       "    </tr>\n",
       "  </tbody>\n",
       "</table>\n",
       "</div>"
      ],
      "text/plain": [
       "Confidence_Life_Style_Index         A         B         C         D\n",
       "Surge_Pricing_Type                                                 \n",
       "1                            3.196169  3.006447  3.059613  3.147710\n",
       "2                            2.962960  2.765281  2.837519  2.853438\n",
       "3                            2.839719  2.610876  2.717383  2.678760"
      ]
     },
     "execution_count": 199,
     "metadata": {},
     "output_type": "execute_result"
    }
   ],
   "source": [
    "pd.pivot_table(train,values='Customer_Rating',index='Surge_Pricing_Type',columns='Confidence_Life_Style_Index')\n"
   ]
  },
  {
   "cell_type": "markdown",
   "metadata": {},
   "source": [
    "- Surge Price Type 1 has high average of customer rating "
   ]
  },
  {
   "cell_type": "code",
   "execution_count": 200,
   "metadata": {},
   "outputs": [
    {
     "data": {
      "text/html": [
       "<div>\n",
       "<style scoped>\n",
       "    .dataframe tbody tr th:only-of-type {\n",
       "        vertical-align: middle;\n",
       "    }\n",
       "\n",
       "    .dataframe tbody tr th {\n",
       "        vertical-align: top;\n",
       "    }\n",
       "\n",
       "    .dataframe thead th {\n",
       "        text-align: right;\n",
       "    }\n",
       "</style>\n",
       "<table border=\"1\" class=\"dataframe\">\n",
       "  <thead>\n",
       "    <tr style=\"text-align: right;\">\n",
       "      <th>Confidence_Life_Style_Index</th>\n",
       "      <th>A</th>\n",
       "      <th>B</th>\n",
       "      <th>C</th>\n",
       "      <th>D</th>\n",
       "    </tr>\n",
       "    <tr>\n",
       "      <th>Surge_Pricing_Type</th>\n",
       "      <th></th>\n",
       "      <th></th>\n",
       "      <th></th>\n",
       "      <th></th>\n",
       "    </tr>\n",
       "  </thead>\n",
       "  <tbody>\n",
       "    <tr>\n",
       "      <th>1</th>\n",
       "      <td>0.481465</td>\n",
       "      <td>0.496822</td>\n",
       "      <td>0.487654</td>\n",
       "      <td>0.480603</td>\n",
       "    </tr>\n",
       "    <tr>\n",
       "      <th>2</th>\n",
       "      <td>0.628216</td>\n",
       "      <td>0.679155</td>\n",
       "      <td>0.650498</td>\n",
       "      <td>0.646984</td>\n",
       "    </tr>\n",
       "    <tr>\n",
       "      <th>3</th>\n",
       "      <td>0.920351</td>\n",
       "      <td>0.941515</td>\n",
       "      <td>0.890936</td>\n",
       "      <td>0.916802</td>\n",
       "    </tr>\n",
       "  </tbody>\n",
       "</table>\n",
       "</div>"
      ],
      "text/plain": [
       "Confidence_Life_Style_Index         A         B         C         D\n",
       "Surge_Pricing_Type                                                 \n",
       "1                            0.481465  0.496822  0.487654  0.480603\n",
       "2                            0.628216  0.679155  0.650498  0.646984\n",
       "3                            0.920351  0.941515  0.890936  0.916802"
      ]
     },
     "execution_count": 200,
     "metadata": {},
     "output_type": "execute_result"
    }
   ],
   "source": [
    "pd.pivot_table(train,values='Cancellation_Last_1Month',index='Surge_Pricing_Type',columns='Confidence_Life_Style_Index')\n"
   ]
  },
  {
   "cell_type": "markdown",
   "metadata": {},
   "source": [
    "- Surge Price Type 3 has the highest cancellation , Confidence Life Style Index Type B havin the highest "
   ]
  },
  {
   "cell_type": "code",
   "execution_count": 201,
   "metadata": {},
   "outputs": [
    {
     "data": {
      "text/html": [
       "<div>\n",
       "<style scoped>\n",
       "    .dataframe tbody tr th:only-of-type {\n",
       "        vertical-align: middle;\n",
       "    }\n",
       "\n",
       "    .dataframe tbody tr th {\n",
       "        vertical-align: top;\n",
       "    }\n",
       "\n",
       "    .dataframe thead th {\n",
       "        text-align: right;\n",
       "    }\n",
       "</style>\n",
       "<table border=\"1\" class=\"dataframe\">\n",
       "  <thead>\n",
       "    <tr style=\"text-align: right;\">\n",
       "      <th>Confidence_Life_Style_Index</th>\n",
       "      <th>A</th>\n",
       "      <th>B</th>\n",
       "      <th>C</th>\n",
       "      <th>D</th>\n",
       "    </tr>\n",
       "    <tr>\n",
       "      <th>Surge_Pricing_Type</th>\n",
       "      <th></th>\n",
       "      <th></th>\n",
       "      <th></th>\n",
       "      <th></th>\n",
       "    </tr>\n",
       "  </thead>\n",
       "  <tbody>\n",
       "    <tr>\n",
       "      <th>1</th>\n",
       "      <td>50.911996</td>\n",
       "      <td>51.440302</td>\n",
       "      <td>51.561799</td>\n",
       "      <td>51.095546</td>\n",
       "    </tr>\n",
       "    <tr>\n",
       "      <th>2</th>\n",
       "      <td>50.575289</td>\n",
       "      <td>51.288738</td>\n",
       "      <td>51.099949</td>\n",
       "      <td>50.923816</td>\n",
       "    </tr>\n",
       "    <tr>\n",
       "      <th>3</th>\n",
       "      <td>50.340516</td>\n",
       "      <td>51.598718</td>\n",
       "      <td>51.127712</td>\n",
       "      <td>51.177642</td>\n",
       "    </tr>\n",
       "  </tbody>\n",
       "</table>\n",
       "</div>"
      ],
      "text/plain": [
       "Confidence_Life_Style_Index          A          B          C          D\n",
       "Surge_Pricing_Type                                                     \n",
       "1                            50.911996  51.440302  51.561799  51.095546\n",
       "2                            50.575289  51.288738  51.099949  50.923816\n",
       "3                            50.340516  51.598718  51.127712  51.177642"
      ]
     },
     "execution_count": 201,
     "metadata": {},
     "output_type": "execute_result"
    }
   ],
   "source": [
    "pd.pivot_table(train,values='Var2',index='Surge_Pricing_Type',columns='Confidence_Life_Style_Index')\n"
   ]
  },
  {
   "cell_type": "code",
   "execution_count": 202,
   "metadata": {},
   "outputs": [
    {
     "data": {
      "text/html": [
       "<div>\n",
       "<style scoped>\n",
       "    .dataframe tbody tr th:only-of-type {\n",
       "        vertical-align: middle;\n",
       "    }\n",
       "\n",
       "    .dataframe tbody tr th {\n",
       "        vertical-align: top;\n",
       "    }\n",
       "\n",
       "    .dataframe thead th {\n",
       "        text-align: right;\n",
       "    }\n",
       "</style>\n",
       "<table border=\"1\" class=\"dataframe\">\n",
       "  <thead>\n",
       "    <tr style=\"text-align: right;\">\n",
       "      <th>Confidence_Life_Style_Index</th>\n",
       "      <th>A</th>\n",
       "      <th>B</th>\n",
       "      <th>C</th>\n",
       "      <th>D</th>\n",
       "    </tr>\n",
       "    <tr>\n",
       "      <th>Surge_Pricing_Type</th>\n",
       "      <th></th>\n",
       "      <th></th>\n",
       "      <th></th>\n",
       "      <th></th>\n",
       "    </tr>\n",
       "  </thead>\n",
       "  <tbody>\n",
       "    <tr>\n",
       "      <th>1</th>\n",
       "      <td>75.220501</td>\n",
       "      <td>77.152379</td>\n",
       "      <td>76.759969</td>\n",
       "      <td>75.908525</td>\n",
       "    </tr>\n",
       "    <tr>\n",
       "      <th>2</th>\n",
       "      <td>73.074227</td>\n",
       "      <td>76.082962</td>\n",
       "      <td>74.967344</td>\n",
       "      <td>74.594535</td>\n",
       "    </tr>\n",
       "    <tr>\n",
       "      <th>3</th>\n",
       "      <td>71.793748</td>\n",
       "      <td>76.156284</td>\n",
       "      <td>74.480108</td>\n",
       "      <td>74.542073</td>\n",
       "    </tr>\n",
       "  </tbody>\n",
       "</table>\n",
       "</div>"
      ],
      "text/plain": [
       "Confidence_Life_Style_Index          A          B          C          D\n",
       "Surge_Pricing_Type                                                     \n",
       "1                            75.220501  77.152379  76.759969  75.908525\n",
       "2                            73.074227  76.082962  74.967344  74.594535\n",
       "3                            71.793748  76.156284  74.480108  74.542073"
      ]
     },
     "execution_count": 202,
     "metadata": {},
     "output_type": "execute_result"
    }
   ],
   "source": [
    "pd.pivot_table(train,values='Var3',index='Surge_Pricing_Type',columns='Confidence_Life_Style_Index')\n"
   ]
  },
  {
   "cell_type": "code",
   "execution_count": 203,
   "metadata": {},
   "outputs": [
    {
     "data": {
      "text/html": [
       "<div>\n",
       "<style scoped>\n",
       "    .dataframe tbody tr th:only-of-type {\n",
       "        vertical-align: middle;\n",
       "    }\n",
       "\n",
       "    .dataframe tbody tr th {\n",
       "        vertical-align: top;\n",
       "    }\n",
       "\n",
       "    .dataframe thead th {\n",
       "        text-align: right;\n",
       "    }\n",
       "</style>\n",
       "<table border=\"1\" class=\"dataframe\">\n",
       "  <thead>\n",
       "    <tr style=\"text-align: right;\">\n",
       "      <th>Destination_Type</th>\n",
       "      <th>A</th>\n",
       "      <th>B</th>\n",
       "      <th>C</th>\n",
       "      <th>D</th>\n",
       "      <th>E</th>\n",
       "      <th>F</th>\n",
       "      <th>G</th>\n",
       "      <th>H</th>\n",
       "      <th>I</th>\n",
       "      <th>J</th>\n",
       "      <th>K</th>\n",
       "      <th>L</th>\n",
       "      <th>M</th>\n",
       "      <th>N</th>\n",
       "    </tr>\n",
       "    <tr>\n",
       "      <th>Surge_Pricing_Type</th>\n",
       "      <th></th>\n",
       "      <th></th>\n",
       "      <th></th>\n",
       "      <th></th>\n",
       "      <th></th>\n",
       "      <th></th>\n",
       "      <th></th>\n",
       "      <th></th>\n",
       "      <th></th>\n",
       "      <th></th>\n",
       "      <th></th>\n",
       "      <th></th>\n",
       "      <th></th>\n",
       "      <th></th>\n",
       "    </tr>\n",
       "  </thead>\n",
       "  <tbody>\n",
       "    <tr>\n",
       "      <th>1</th>\n",
       "      <td>43.265397</td>\n",
       "      <td>43.393832</td>\n",
       "      <td>37.719066</td>\n",
       "      <td>26.121965</td>\n",
       "      <td>27.511463</td>\n",
       "      <td>39.214905</td>\n",
       "      <td>22.503327</td>\n",
       "      <td>26.036124</td>\n",
       "      <td>20.534545</td>\n",
       "      <td>19.019027</td>\n",
       "      <td>29.380732</td>\n",
       "      <td>42.747252</td>\n",
       "      <td>29.072105</td>\n",
       "      <td>16.847419</td>\n",
       "    </tr>\n",
       "    <tr>\n",
       "      <th>2</th>\n",
       "      <td>42.839695</td>\n",
       "      <td>43.073334</td>\n",
       "      <td>40.143249</td>\n",
       "      <td>27.128460</td>\n",
       "      <td>30.467166</td>\n",
       "      <td>42.694617</td>\n",
       "      <td>24.659816</td>\n",
       "      <td>24.570000</td>\n",
       "      <td>21.005524</td>\n",
       "      <td>18.873362</td>\n",
       "      <td>31.101814</td>\n",
       "      <td>43.274513</td>\n",
       "      <td>30.899231</td>\n",
       "      <td>19.207119</td>\n",
       "    </tr>\n",
       "    <tr>\n",
       "      <th>3</th>\n",
       "      <td>52.485218</td>\n",
       "      <td>52.471559</td>\n",
       "      <td>49.867754</td>\n",
       "      <td>32.152719</td>\n",
       "      <td>38.756131</td>\n",
       "      <td>50.450943</td>\n",
       "      <td>30.861460</td>\n",
       "      <td>29.556091</td>\n",
       "      <td>23.710536</td>\n",
       "      <td>19.890893</td>\n",
       "      <td>36.071000</td>\n",
       "      <td>50.121830</td>\n",
       "      <td>39.085000</td>\n",
       "      <td>21.388750</td>\n",
       "    </tr>\n",
       "  </tbody>\n",
       "</table>\n",
       "</div>"
      ],
      "text/plain": [
       "Destination_Type            A          B          C          D          E  \\\n",
       "Surge_Pricing_Type                                                          \n",
       "1                   43.265397  43.393832  37.719066  26.121965  27.511463   \n",
       "2                   42.839695  43.073334  40.143249  27.128460  30.467166   \n",
       "3                   52.485218  52.471559  49.867754  32.152719  38.756131   \n",
       "\n",
       "Destination_Type            F          G          H          I          J  \\\n",
       "Surge_Pricing_Type                                                          \n",
       "1                   39.214905  22.503327  26.036124  20.534545  19.019027   \n",
       "2                   42.694617  24.659816  24.570000  21.005524  18.873362   \n",
       "3                   50.450943  30.861460  29.556091  23.710536  19.890893   \n",
       "\n",
       "Destination_Type            K          L          M          N  \n",
       "Surge_Pricing_Type                                              \n",
       "1                   29.380732  42.747252  29.072105  16.847419  \n",
       "2                   31.101814  43.274513  30.899231  19.207119  \n",
       "3                   36.071000  50.121830  39.085000  21.388750  "
      ]
     },
     "execution_count": 203,
     "metadata": {},
     "output_type": "execute_result"
    }
   ],
   "source": [
    "pd.pivot_table(train,values='Trip_Distance',index='Surge_Pricing_Type',columns='Destination_Type')"
   ]
  },
  {
   "cell_type": "markdown",
   "metadata": {},
   "source": [
    "-Destination Type in common between all surge price type , i.e A,B,C have highest average trip distance respective to the surge type"
   ]
  },
  {
   "cell_type": "code",
   "execution_count": 205,
   "metadata": {},
   "outputs": [
    {
     "data": {
      "text/plain": [
       "<matplotlib.axes._subplots.AxesSubplot at 0x1d25bd67ac8>"
      ]
     },
     "execution_count": 205,
     "metadata": {},
     "output_type": "execute_result"
    },
    {
     "data": {
      "image/png": "[encoded data removed]",
      "text/plain": [
       "<Figure size 432x288 with 1 Axes>"
      ]
     },
     "metadata": {
      "needs_background": "light"
     },
     "output_type": "display_data"
    }
   ],
   "source": [
    "sns.boxplot(train.Surge_Pricing_Type,train.Trip_Distance)"
   ]
  },
  {
   "cell_type": "markdown",
   "metadata": {},
   "source": [
    "We can see the overlapp in box plot for surge type 1 & 2 for trip distance , hence in 1 & 2 surge type there is similar trip distance travelled hence not contirbuting any difference between surge type 1 & 2 on basis of Trip Distance"
   ]
  },
  {
   "cell_type": "code",
   "execution_count": 206,
   "metadata": {},
   "outputs": [
    {
     "data": {
      "text/plain": [
       "<matplotlib.axes._subplots.AxesSubplot at 0x1d256593648>"
      ]
     },
     "execution_count": 206,
     "metadata": {},
     "output_type": "execute_result"
    },
    {
     "data": {
      "image/png": "[encoded data removed]",
      "text/plain": [
       "<Figure size 432x288 with 1 Axes>"
      ]
     },
     "metadata": {
      "needs_background": "light"
     },
     "output_type": "display_data"
    }
   ],
   "source": [
    "sns.boxplot(train.Surge_Pricing_Type,train.Customer_Since_Months)"
   ]
  },
  {
   "cell_type": "markdown",
   "metadata": {},
   "source": [
    "- **Box plot of customer tenure for all the surge type overlaps hence customer since months does not contribute to surge type , hence it is a bad variable** "
   ]
  },
  {
   "cell_type": "code",
   "execution_count": 207,
   "metadata": {},
   "outputs": [
    {
     "data": {
      "text/plain": [
       "<matplotlib.axes._subplots.AxesSubplot at 0x1d256338488>"
      ]
     },
     "execution_count": 207,
     "metadata": {},
     "output_type": "execute_result"
    },
    {
     "data": {
      "image/png": "[encoded data removed]",
      "text/plain": [
       "<Figure size 432x288 with 1 Axes>"
      ]
     },
     "metadata": {
      "needs_background": "light"
     },
     "output_type": "display_data"
    }
   ],
   "source": [
    "sns.boxplot(train.Surge_Pricing_Type,train.Life_Style_Index)"
   ]
  },
  {
   "cell_type": "markdown",
   "metadata": {},
   "source": [
    "- Only suge type 1 shows higher life style index , while 2 & 3 overlaps hence does not explain any difference between the surge price type "
   ]
  },
  {
   "cell_type": "code",
   "execution_count": 208,
   "metadata": {},
   "outputs": [
    {
     "data": {
      "text/plain": [
       "<matplotlib.axes._subplots.AxesSubplot at 0x1d25b06f388>"
      ]
     },
     "execution_count": 208,
     "metadata": {},
     "output_type": "execute_result"
    },
    {
     "data": {
      "image/png": "[encoded data removed]",
      "text/plain": [
       "<Figure size 432x288 with 1 Axes>"
      ]
     },
     "metadata": {
      "needs_background": "light"
     },
     "output_type": "display_data"
    }
   ],
   "source": [
    "sns.boxplot(train.Surge_Pricing_Type,train.Customer_Rating)"
   ]
  },
  {
   "cell_type": "markdown",
   "metadata": {},
   "source": [
    "- There is not any overlap of boxplot of Customer Rating on basis of Surge Type "
   ]
  },
  {
   "cell_type": "code",
   "execution_count": 209,
   "metadata": {},
   "outputs": [
    {
     "data": {
      "text/plain": [
       "<matplotlib.axes._subplots.AxesSubplot at 0x1d2548c64c8>"
      ]
     },
     "execution_count": 209,
     "metadata": {},
     "output_type": "execute_result"
    },
    {
     "data": {
      "image/png": "[encoded data removed]",
      "text/plain": [
       "<Figure size 432x288 with 1 Axes>"
      ]
     },
     "metadata": {
      "needs_background": "light"
     },
     "output_type": "display_data"
    }
   ],
   "source": [
    "sns.boxplot(train.Surge_Pricing_Type,train.Cancellation_Last_1Month)"
   ]
  },
  {
   "cell_type": "markdown",
   "metadata": {},
   "source": [
    "- We can see for surge price type 1 & 2 box plot of cancellations overlaps , i.e it does not explain difference in the two surge type . Only surge type 3 has significant change "
   ]
  },
  {
   "cell_type": "code",
   "execution_count": 210,
   "metadata": {},
   "outputs": [
    {
     "data": {
      "text/plain": [
       "<matplotlib.axes._subplots.AxesSubplot at 0x1d25ab3e648>"
      ]
     },
     "execution_count": 210,
     "metadata": {},
     "output_type": "execute_result"
    },
    {
     "data": {
      "image/png": "[encoded data removed]",
      "text/plain": [
       "<Figure size 432x288 with 1 Axes>"
      ]
     },
     "metadata": {
      "needs_background": "light"
     },
     "output_type": "display_data"
    }
   ],
   "source": [
    "sns.boxplot(train.Surge_Pricing_Type,train.Var2)"
   ]
  },
  {
   "cell_type": "markdown",
   "metadata": {},
   "source": [
    "- **Box Plot of Var2 Overlaps for all surge type**"
   ]
  },
  {
   "cell_type": "code",
   "execution_count": 211,
   "metadata": {},
   "outputs": [
    {
     "data": {
      "text/plain": [
       "<matplotlib.axes._subplots.AxesSubplot at 0x1d25b9b8148>"
      ]
     },
     "execution_count": 211,
     "metadata": {},
     "output_type": "execute_result"
    },
    {
     "data": {
      "image/png": "[encoded data removed]",
      "text/plain": [
       "<Figure size 432x288 with 1 Axes>"
      ]
     },
     "metadata": {
      "needs_background": "light"
     },
     "output_type": "display_data"
    }
   ],
   "source": [
    "sns.boxplot(train.Surge_Pricing_Type,train.Var3)"
   ]
  },
  {
   "cell_type": "markdown",
   "metadata": {},
   "source": [
    "- Overlap is there for surge type 2 & 3 for Var3 , the difference is explained only for surge type 1 "
   ]
  },
  {
   "cell_type": "markdown",
   "metadata": {},
   "source": [
    "On whole if we see prominent variable customer rating explains difference in surge type better "
   ]
  },
  {
   "cell_type": "code",
   "execution_count": 212,
   "metadata": {},
   "outputs": [
    {
     "data": {
      "text/plain": [
       "<seaborn.axisgrid.FacetGrid at 0x1d25bf00f08>"
      ]
     },
     "execution_count": 212,
     "metadata": {},
     "output_type": "execute_result"
    },
    {
     "data": {
      "image/png": "[encoded data removed]",
      "text/plain": [
       "<Figure size 431.109x360 with 1 Axes>"
      ]
     },
     "metadata": {
      "needs_background": "light"
     },
     "output_type": "display_data"
    }
   ],
   "source": [
    "sns.catplot(x=\"Surge_Pricing_Type\", y=\"Customer_Rating\", hue=\"Type_of_Cab\", kind=\"box\", data=train)"
   ]
  },
  {
   "cell_type": "code",
   "execution_count": 213,
   "metadata": {},
   "outputs": [
    {
     "data": {
      "text/plain": [
       "<seaborn.axisgrid.FacetGrid at 0x1d2554798c8>"
      ]
     },
     "execution_count": 213,
     "metadata": {},
     "output_type": "execute_result"
    },
    {
     "data": {
      "image/png": "[encoded data removed]",
      "text/plain": [
       "<Figure size 510x360 with 1 Axes>"
      ]
     },
     "metadata": {
      "needs_background": "light"
     },
     "output_type": "display_data"
    }
   ],
   "source": [
    "sns.catplot(x=\"Surge_Pricing_Type\", y=\"Customer_Rating\", hue=\"Confidence_Life_Style_Index\", kind=\"box\", data=train)"
   ]
  },
  {
   "cell_type": "markdown",
   "metadata": {},
   "source": [
    "- Confidence Life Style Index Type **A** has higher customer Rating for all surge price type"
   ]
  },
  {
   "cell_type": "code",
   "execution_count": 229,
   "metadata": {},
   "outputs": [
    {
     "data": {
      "text/plain": [
       "<matplotlib.axes._subplots.AxesSubplot at 0x1d266c17fc8>"
      ]
     },
     "execution_count": 229,
     "metadata": {},
     "output_type": "execute_result"
    },
    {
     "data": {
      "image/png": "[encoded data removed]",
      "text/plain": [
       "<Figure size 2160x720 with 1 Axes>"
      ]
     },
     "metadata": {
      "needs_background": "light"
     },
     "output_type": "display_data"
    }
   ],
   "source": [
    "plt.figure(figsize=(30,10))\n",
    "sns.boxplot(x=\"Surge_Pricing_Type\", y=\"Customer_Rating\", hue=\"Destination_Type\",  data=train)"
   ]
  },
  {
   "cell_type": "code",
   "execution_count": 227,
   "metadata": {},
   "outputs": [
    {
     "data": {
      "text/plain": [
       "<seaborn.axisgrid.FacetGrid at 0x1d269a6df48>"
      ]
     },
     "execution_count": 227,
     "metadata": {},
     "output_type": "execute_result"
    },
    {
     "data": {
      "text/plain": [
       "<Figure size 72x72 with 0 Axes>"
      ]
     },
     "metadata": {},
     "output_type": "display_data"
    },
    {
     "data": {
      "image/png": "[encoded data removed]",
      "text/plain": [
       "<Figure size 432.625x360 with 1 Axes>"
      ]
     },
     "metadata": {
      "needs_background": "light"
     },
     "output_type": "display_data"
    }
   ],
   "source": [
    "plt.figure(figsize=(1,1))\n",
    "sns.catplot(x=\"Surge_Pricing_Type\", y=\"Customer_Rating\", hue=\"Gender\", kind=\"box\", data=train)"
   ]
  },
  {
   "cell_type": "code",
   "execution_count": 235,
   "metadata": {},
   "outputs": [
    {
     "data": {
      "text/plain": [
       "<matplotlib.axes._subplots.AxesSubplot at 0x1d26985ab08>"
      ]
     },
     "execution_count": 235,
     "metadata": {},
     "output_type": "execute_result"
    },
    {
     "data": {
      "image/png": "[encoded data removed]",
      "text/plain": [
       "<Figure size 432x288 with 1 Axes>"
      ]
     },
     "metadata": {
      "needs_background": "light"
     },
     "output_type": "display_data"
    }
   ],
   "source": [
    "train.Surge_Pricing_Type.value_counts().plot(kind='bar')"
   ]
  },
  {
   "cell_type": "code",
   "execution_count": 257,
   "metadata": {},
   "outputs": [
    {
     "data": {
      "text/plain": [
       "<matplotlib.axes._subplots.AxesSubplot at 0x1d269fc8908>"
      ]
     },
     "execution_count": 257,
     "metadata": {},
     "output_type": "execute_result"
    },
    {
     "data": {
      "image/png": "[encoded data removed]",
      "text/plain": [
       "<Figure size 432x288 with 1 Axes>"
      ]
     },
     "metadata": {
      "needs_background": "light"
     },
     "output_type": "display_data"
    }
   ],
   "source": [
    "sns.countplot(train.Surge_Pricing_Type,hue=train.Gender)"
   ]
  },
  {
   "cell_type": "markdown",
   "metadata": {},
   "source": [
    "Male pays more surge than females"
   ]
  },
  {
   "cell_type": "code",
   "execution_count": 258,
   "metadata": {},
   "outputs": [
    {
     "data": {
      "text/plain": [
       "<matplotlib.axes._subplots.AxesSubplot at 0x1d26a0bf308>"
      ]
     },
     "execution_count": 258,
     "metadata": {},
     "output_type": "execute_result"
    },
    {
     "data": {
      "image/png": "[encoded data removed]",
      "text/plain": [
       "<Figure size 432x288 with 1 Axes>"
      ]
     },
     "metadata": {
      "needs_background": "light"
     },
     "output_type": "display_data"
    }
   ],
   "source": [
    "sns.countplot(train.Surge_Pricing_Type,hue=train.Type_of_Cab)"
   ]
  },
  {
   "cell_type": "markdown",
   "metadata": {},
   "source": [
    "If we notice for different surge price type :\n",
    "\n",
    "- Cab type A is preffered more when there is surge type 1 \n",
    "\n",
    "- Cab type B & C is preffered more when there is surge type 2\n",
    "\n",
    "- Cab type D is preffered more when there is surge type 3"
   ]
  },
  {
   "cell_type": "code",
   "execution_count": 259,
   "metadata": {},
   "outputs": [
    {
     "data": {
      "text/plain": [
       "<matplotlib.axes._subplots.AxesSubplot at 0x1d26a18a4c8>"
      ]
     },
     "execution_count": 259,
     "metadata": {},
     "output_type": "execute_result"
    },
    {
     "data": {
      "image/png": "[encoded data removed]",
      "text/plain": [
       "<Figure size 432x288 with 1 Axes>"
      ]
     },
     "metadata": {
      "needs_background": "light"
     },
     "output_type": "display_data"
    }
   ],
   "source": [
    "sns.countplot(train.Surge_Pricing_Type,hue=train.Confidence_Life_Style_Index )"
   ]
  },
  {
   "cell_type": "markdown",
   "metadata": {},
   "source": [
    "For different surge pricing type:\n",
    "\n",
    "- Confidence type A is more in Surge type 1\n",
    "\n",
    "- Confidence type A,B & c is more in Surge type 2\n",
    "\n",
    "- Confidence type B is more in Surge type 3"
   ]
  },
  {
   "cell_type": "code",
   "execution_count": 263,
   "metadata": {},
   "outputs": [
    {
     "data": {
      "text/plain": [
       "<matplotlib.axes._subplots.AxesSubplot at 0x1d26a1f6788>"
      ]
     },
     "execution_count": 263,
     "metadata": {},
     "output_type": "execute_result"
    },
    {
     "data": {
      "image/png": "[encoded data removed]",
      "text/plain": [
       "<Figure size 720x720 with 1 Axes>"
      ]
     },
     "metadata": {
      "needs_background": "light"
     },
     "output_type": "display_data"
    }
   ],
   "source": [
    "plt.figure(figsize=(10,10))\n",
    "sns.countplot(train.Surge_Pricing_Type,hue=train.Destination_Type  )"
   ]
  },
  {
   "cell_type": "markdown",
   "metadata": {},
   "source": [
    "Destination A & B have high frequency in different surge pricing type"
   ]
  },
  {
   "cell_type": "markdown",
   "metadata": {},
   "source": [
    "## Final Comments on EDA :\n",
    "\n",
    "- Probable Important variables are : Gender, Destination, Confidence Life Style Index, Type of Cab, Customer Rating,Var3, Cancellation 1 month, Life Style Index , Trip Distance"
   ]
  },
  {
   "cell_type": "code",
   "execution_count": 140,
   "metadata": {},
   "outputs": [
    {
     "data": {
      "text/plain": [
       "2    56728\n",
       "3    47720\n",
       "1    27214\n",
       "Name: Surge_Pricing_Type, dtype: int64"
      ]
     },
     "execution_count": 140,
     "metadata": {},
     "output_type": "execute_result"
    }
   ],
   "source": [
    "train.Surge_Pricing_Type.value_counts()"
   ]
  },
  {
   "cell_type": "markdown",
   "metadata": {},
   "source": [
    "### for our study we are converting this into binary variable , i.e interms of 0 & 1\n",
    "\n",
    "where :\n",
    "\n",
    "- 2 ->0\n",
    "- 3->1\n",
    "\n",
    "- 1 is inclueded in 2"
   ]
  },
  {
   "cell_type": "code",
   "execution_count": 141,
   "metadata": {},
   "outputs": [],
   "source": [
    "train.Surge_Pricing_Type.replace(1,2,inplace=True)"
   ]
  },
  {
   "cell_type": "code",
   "execution_count": 142,
   "metadata": {},
   "outputs": [
    {
     "data": {
      "text/plain": [
       "2    83942\n",
       "3    47720\n",
       "Name: Surge_Pricing_Type, dtype: int64"
      ]
     },
     "execution_count": 142,
     "metadata": {},
     "output_type": "execute_result"
    }
   ],
   "source": [
    "train.Surge_Pricing_Type.value_counts()"
   ]
  },
  {
   "cell_type": "code",
   "execution_count": 143,
   "metadata": {},
   "outputs": [],
   "source": [
    "train.Surge_Pricing_Type.replace(2,0,inplace=True)\n",
    "train.Surge_Pricing_Type.replace(3,1,inplace=True)"
   ]
  },
  {
   "cell_type": "code",
   "execution_count": 170,
   "metadata": {},
   "outputs": [
    {
     "data": {
      "text/plain": [
       "0    83942\n",
       "1    47720\n",
       "Name: Surge_Pricing_Type, dtype: int64"
      ]
     },
     "execution_count": 170,
     "metadata": {},
     "output_type": "execute_result"
    }
   ],
   "source": [
    "train.Surge_Pricing_Type.value_counts()"
   ]
  },
  {
   "cell_type": "markdown",
   "metadata": {},
   "source": [
    "# Pre-Processing Data "
   ]
  },
  {
   "cell_type": "code",
   "execution_count": 264,
   "metadata": {},
   "outputs": [
    {
     "data": {
      "text/plain": [
       "Trip_ID                         object\n",
       "Trip_Distance                  float64\n",
       "Type_of_Cab                     object\n",
       "Customer_Since_Months          float64\n",
       "Life_Style_Index               float64\n",
       "Confidence_Life_Style_Index     object\n",
       "Destination_Type                object\n",
       "Customer_Rating                float64\n",
       "Cancellation_Last_1Month       float64\n",
       "Var2                             int64\n",
       "Var3                           float64\n",
       "Gender                          object\n",
       "Surge_Pricing_Type               int64\n",
       "dtype: object"
      ]
     },
     "execution_count": 264,
     "metadata": {},
     "output_type": "execute_result"
    }
   ],
   "source": [
    "train.dtypes"
   ]
  },
  {
   "cell_type": "markdown",
   "metadata": {},
   "source": [
    "#### one-hot-encoding "
   ]
  },
  {
   "cell_type": "code",
   "execution_count": 43,
   "metadata": {},
   "outputs": [],
   "source": [
    "d_Type_Cab=pd.get_dummies(train['Type_of_Cab'],prefix='Cab_Type')"
   ]
  },
  {
   "cell_type": "code",
   "execution_count": 44,
   "metadata": {},
   "outputs": [],
   "source": [
    "d_CLI=pd.get_dummies(train['Confidence_Life_Style_Index'],prefix='CLI')"
   ]
  },
  {
   "cell_type": "code",
   "execution_count": 45,
   "metadata": {},
   "outputs": [],
   "source": [
    "d_Dest_Type=pd.get_dummies(train['Destination_Type'],prefix='Dest_Type')"
   ]
  },
  {
   "cell_type": "code",
   "execution_count": 46,
   "metadata": {},
   "outputs": [],
   "source": [
    "d_Gender=pd.get_dummies(train['Gender'],prefix='Gender',drop_first=True)"
   ]
  },
  {
   "cell_type": "code",
   "execution_count": 47,
   "metadata": {},
   "outputs": [],
   "source": [
    "d_Type_Cab.drop('Cab_Type_F',axis=1,inplace=True)"
   ]
  },
  {
   "cell_type": "code",
   "execution_count": 48,
   "metadata": {},
   "outputs": [],
   "source": [
    "d_CLI.drop('CLI_D',axis=1,inplace=True)"
   ]
  },
  {
   "cell_type": "code",
   "execution_count": 49,
   "metadata": {},
   "outputs": [],
   "source": [
    "d_Dest_Type.drop('Dest_Type_N',axis=1,inplace=True)"
   ]
  },
  {
   "cell_type": "code",
   "execution_count": 50,
   "metadata": {},
   "outputs": [],
   "source": [
    "train.drop(['Type_of_Cab','Confidence_Life_Style_Index','Destination_Type','Gender'],axis=1,inplace=True)"
   ]
  },
  {
   "cell_type": "code",
   "execution_count": 171,
   "metadata": {},
   "outputs": [],
   "source": [
    "train_f=pd.concat([train,d_Type_Cab,d_CLI,d_Dest_Type,d_Gender],axis=1)"
   ]
  },
  {
   "cell_type": "code",
   "execution_count": 52,
   "metadata": {},
   "outputs": [
    {
     "data": {
      "text/html": [
       "<div>\n",
       "<style scoped>\n",
       "    .dataframe tbody tr th:only-of-type {\n",
       "        vertical-align: middle;\n",
       "    }\n",
       "\n",
       "    .dataframe tbody tr th {\n",
       "        vertical-align: top;\n",
       "    }\n",
       "\n",
       "    .dataframe thead th {\n",
       "        text-align: right;\n",
       "    }\n",
       "</style>\n",
       "<table border=\"1\" class=\"dataframe\">\n",
       "  <thead>\n",
       "    <tr style=\"text-align: right;\">\n",
       "      <th></th>\n",
       "      <th>Trip_ID</th>\n",
       "      <th>Trip_Distance</th>\n",
       "      <th>Customer_Since_Months</th>\n",
       "      <th>Life_Style_Index</th>\n",
       "      <th>Customer_Rating</th>\n",
       "      <th>Cancellation_Last_1Month</th>\n",
       "      <th>Var2</th>\n",
       "      <th>Var3</th>\n",
       "      <th>Surge_Pricing_Type</th>\n",
       "      <th>Cab_Type_A</th>\n",
       "      <th>...</th>\n",
       "      <th>Dest_Type_E</th>\n",
       "      <th>Dest_Type_F</th>\n",
       "      <th>Dest_Type_G</th>\n",
       "      <th>Dest_Type_H</th>\n",
       "      <th>Dest_Type_I</th>\n",
       "      <th>Dest_Type_J</th>\n",
       "      <th>Dest_Type_K</th>\n",
       "      <th>Dest_Type_L</th>\n",
       "      <th>Dest_Type_M</th>\n",
       "      <th>Gender_Male</th>\n",
       "    </tr>\n",
       "  </thead>\n",
       "  <tbody>\n",
       "    <tr>\n",
       "      <th>0</th>\n",
       "      <td>T0005689460</td>\n",
       "      <td>6.77</td>\n",
       "      <td>1.0</td>\n",
       "      <td>2.42769</td>\n",
       "      <td>3.90500</td>\n",
       "      <td>0.0</td>\n",
       "      <td>46</td>\n",
       "      <td>60.0</td>\n",
       "      <td>2</td>\n",
       "      <td>0</td>\n",
       "      <td>...</td>\n",
       "      <td>0</td>\n",
       "      <td>0</td>\n",
       "      <td>0</td>\n",
       "      <td>0</td>\n",
       "      <td>0</td>\n",
       "      <td>0</td>\n",
       "      <td>0</td>\n",
       "      <td>0</td>\n",
       "      <td>0</td>\n",
       "      <td>0</td>\n",
       "    </tr>\n",
       "    <tr>\n",
       "      <th>1</th>\n",
       "      <td>T0005689461</td>\n",
       "      <td>29.47</td>\n",
       "      <td>10.0</td>\n",
       "      <td>2.78245</td>\n",
       "      <td>3.45000</td>\n",
       "      <td>0.0</td>\n",
       "      <td>56</td>\n",
       "      <td>78.0</td>\n",
       "      <td>2</td>\n",
       "      <td>0</td>\n",
       "      <td>...</td>\n",
       "      <td>0</td>\n",
       "      <td>0</td>\n",
       "      <td>0</td>\n",
       "      <td>0</td>\n",
       "      <td>0</td>\n",
       "      <td>0</td>\n",
       "      <td>0</td>\n",
       "      <td>0</td>\n",
       "      <td>0</td>\n",
       "      <td>1</td>\n",
       "    </tr>\n",
       "    <tr>\n",
       "      <th>2</th>\n",
       "      <td>T0005689464</td>\n",
       "      <td>41.58</td>\n",
       "      <td>10.0</td>\n",
       "      <td>2.79805</td>\n",
       "      <td>3.50125</td>\n",
       "      <td>2.0</td>\n",
       "      <td>56</td>\n",
       "      <td>77.0</td>\n",
       "      <td>2</td>\n",
       "      <td>0</td>\n",
       "      <td>...</td>\n",
       "      <td>1</td>\n",
       "      <td>0</td>\n",
       "      <td>0</td>\n",
       "      <td>0</td>\n",
       "      <td>0</td>\n",
       "      <td>0</td>\n",
       "      <td>0</td>\n",
       "      <td>0</td>\n",
       "      <td>0</td>\n",
       "      <td>1</td>\n",
       "    </tr>\n",
       "    <tr>\n",
       "      <th>3</th>\n",
       "      <td>T0005689465</td>\n",
       "      <td>61.56</td>\n",
       "      <td>10.0</td>\n",
       "      <td>2.79805</td>\n",
       "      <td>3.45375</td>\n",
       "      <td>0.0</td>\n",
       "      <td>52</td>\n",
       "      <td>74.0</td>\n",
       "      <td>3</td>\n",
       "      <td>0</td>\n",
       "      <td>...</td>\n",
       "      <td>0</td>\n",
       "      <td>0</td>\n",
       "      <td>0</td>\n",
       "      <td>0</td>\n",
       "      <td>0</td>\n",
       "      <td>0</td>\n",
       "      <td>0</td>\n",
       "      <td>0</td>\n",
       "      <td>0</td>\n",
       "      <td>1</td>\n",
       "    </tr>\n",
       "    <tr>\n",
       "      <th>4</th>\n",
       "      <td>T0005689467</td>\n",
       "      <td>54.95</td>\n",
       "      <td>10.0</td>\n",
       "      <td>3.03453</td>\n",
       "      <td>3.40250</td>\n",
       "      <td>2.5</td>\n",
       "      <td>49</td>\n",
       "      <td>102.0</td>\n",
       "      <td>2</td>\n",
       "      <td>0</td>\n",
       "      <td>...</td>\n",
       "      <td>0</td>\n",
       "      <td>0</td>\n",
       "      <td>0</td>\n",
       "      <td>0</td>\n",
       "      <td>0</td>\n",
       "      <td>0</td>\n",
       "      <td>0</td>\n",
       "      <td>0</td>\n",
       "      <td>0</td>\n",
       "      <td>1</td>\n",
       "    </tr>\n",
       "  </tbody>\n",
       "</table>\n",
       "<p>5 rows × 31 columns</p>\n",
       "</div>"
      ],
      "text/plain": [
       "       Trip_ID  Trip_Distance  Customer_Since_Months  Life_Style_Index  \\\n",
       "0  T0005689460           6.77                    1.0           2.42769   \n",
       "1  T0005689461          29.47                   10.0           2.78245   \n",
       "2  T0005689464          41.58                   10.0           2.79805   \n",
       "3  T0005689465          61.56                   10.0           2.79805   \n",
       "4  T0005689467          54.95                   10.0           3.03453   \n",
       "\n",
       "   Customer_Rating  Cancellation_Last_1Month  Var2   Var3  Surge_Pricing_Type  \\\n",
       "0          3.90500                       0.0    46   60.0                   2   \n",
       "1          3.45000                       0.0    56   78.0                   2   \n",
       "2          3.50125                       2.0    56   77.0                   2   \n",
       "3          3.45375                       0.0    52   74.0                   3   \n",
       "4          3.40250                       2.5    49  102.0                   2   \n",
       "\n",
       "   Cab_Type_A  ...  Dest_Type_E  Dest_Type_F  Dest_Type_G  Dest_Type_H  \\\n",
       "0           0  ...            0            0            0            0   \n",
       "1           0  ...            0            0            0            0   \n",
       "2           0  ...            1            0            0            0   \n",
       "3           0  ...            0            0            0            0   \n",
       "4           0  ...            0            0            0            0   \n",
       "\n",
       "   Dest_Type_I  Dest_Type_J  Dest_Type_K  Dest_Type_L  Dest_Type_M  \\\n",
       "0            0            0            0            0            0   \n",
       "1            0            0            0            0            0   \n",
       "2            0            0            0            0            0   \n",
       "3            0            0            0            0            0   \n",
       "4            0            0            0            0            0   \n",
       "\n",
       "   Gender_Male  \n",
       "0            0  \n",
       "1            1  \n",
       "2            1  \n",
       "3            1  \n",
       "4            1  \n",
       "\n",
       "[5 rows x 31 columns]"
      ]
     },
     "execution_count": 52,
     "metadata": {},
     "output_type": "execute_result"
    }
   ],
   "source": [
    "train_f.head()"
   ]
  },
  {
   "cell_type": "code",
   "execution_count": 172,
   "metadata": {},
   "outputs": [
    {
     "data": {
      "text/plain": [
       "Index(['Trip_ID', 'Trip_Distance', 'Customer_Since_Months', 'Life_Style_Index',\n",
       "       'Customer_Rating', 'Cancellation_Last_1Month', 'Var2', 'Var3',\n",
       "       'Surge_Pricing_Type', 'Cab_Type_A', 'Cab_Type_B', 'Cab_Type_C',\n",
       "       'Cab_Type_D', 'Cab_Type_E', 'CLI_A', 'CLI_B', 'CLI_C', 'Dest_Type_A',\n",
       "       'Dest_Type_B', 'Dest_Type_C', 'Dest_Type_D', 'Dest_Type_E',\n",
       "       'Dest_Type_F', 'Dest_Type_G', 'Dest_Type_H', 'Dest_Type_I',\n",
       "       'Dest_Type_J', 'Dest_Type_K', 'Dest_Type_L', 'Dest_Type_M',\n",
       "       'Gender_Male'],\n",
       "      dtype='object')"
      ]
     },
     "execution_count": 172,
     "metadata": {},
     "output_type": "execute_result"
    }
   ],
   "source": [
    "train_f.columns"
   ]
  },
  {
   "cell_type": "code",
   "execution_count": 173,
   "metadata": {},
   "outputs": [],
   "source": [
    "categ_var=[ 'Cab_Type_A', 'Cab_Type_B', 'Cab_Type_C',\n",
    "       'Cab_Type_D', 'Cab_Type_E', 'CLI_A', 'CLI_B', 'CLI_C', 'Dest_Type_A',\n",
    "       'Dest_Type_B', 'Dest_Type_C', 'Dest_Type_D', 'Dest_Type_E',\n",
    "       'Dest_Type_F', 'Dest_Type_G', 'Dest_Type_H', 'Dest_Type_I',\n",
    "       'Dest_Type_J', 'Dest_Type_K', 'Dest_Type_L', 'Dest_Type_M',\n",
    "       'Gender_Male']\n",
    "cont_var=['Trip_Distance', 'Customer_Since_Months', 'Life_Style_Index',\n",
    "       'Customer_Rating', 'Cancellation_Last_1Month', 'Var2', 'Var3']\n",
    "Dependent_Var='Surge_Pricing_Type'"
   ]
  },
  {
   "cell_type": "code",
   "execution_count": 174,
   "metadata": {},
   "outputs": [],
   "source": [
    "cont_train=train_f[cont_var]\n",
    "categ_train=train_f[categ_var]\n",
    "Y_data=train_f[[Dependent_Var]]"
   ]
  },
  {
   "cell_type": "code",
   "execution_count": 175,
   "metadata": {},
   "outputs": [
    {
     "data": {
      "text/plain": [
       "0    83942\n",
       "1    47720\n",
       "Name: Surge_Pricing_Type, dtype: int64"
      ]
     },
     "execution_count": 175,
     "metadata": {},
     "output_type": "execute_result"
    }
   ],
   "source": [
    "Y_data.Surge_Pricing_Type.value_counts()"
   ]
  },
  {
   "cell_type": "markdown",
   "metadata": {},
   "source": [
    "#### Normalization "
   ]
  },
  {
   "cell_type": "code",
   "execution_count": 176,
   "metadata": {},
   "outputs": [],
   "source": [
    "norm_object=Normalizer()\n",
    "Cont_train=pd.DataFrame(norm_object.fit_transform(cont_train),columns=[cont_var])"
   ]
  },
  {
   "cell_type": "code",
   "execution_count": 177,
   "metadata": {},
   "outputs": [],
   "source": [
    "Final_Train=pd.concat([Cont_train,categ_train],axis=1)"
   ]
  },
  {
   "cell_type": "markdown",
   "metadata": {},
   "source": [
    "## Splitting Data"
   ]
  },
  {
   "cell_type": "code",
   "execution_count": 178,
   "metadata": {},
   "outputs": [
    {
     "data": {
      "text/plain": [
       "(131662, 29)"
      ]
     },
     "execution_count": 178,
     "metadata": {},
     "output_type": "execute_result"
    }
   ],
   "source": [
    "Final_Train.shape"
   ]
  },
  {
   "cell_type": "code",
   "execution_count": 179,
   "metadata": {},
   "outputs": [],
   "source": [
    "X_train,X_test,y_train,y_test=tts(Final_Train,Y_data,test_size=.50,random_state=20)"
   ]
  },
  {
   "cell_type": "code",
   "execution_count": 180,
   "metadata": {},
   "outputs": [
    {
     "data": {
      "text/plain": [
       "0    42037\n",
       "1    23794\n",
       "Name: Surge_Pricing_Type, dtype: int64"
      ]
     },
     "execution_count": 180,
     "metadata": {},
     "output_type": "execute_result"
    }
   ],
   "source": [
    "y_train.Surge_Pricing_Type.value_counts()"
   ]
  },
  {
   "cell_type": "markdown",
   "metadata": {},
   "source": [
    "# Model Development - Scratch"
   ]
  },
  {
   "cell_type": "code",
   "execution_count": 60,
   "metadata": {},
   "outputs": [],
   "source": [
    "def sigmoid(X):\n",
    "    sigmoid_d=(1/(1+np.exp(-X)))\n",
    "    return sigmoid_d"
   ]
  },
  {
   "cell_type": "code",
   "execution_count": 83,
   "metadata": {},
   "outputs": [],
   "source": [
    "def initialize_weight(data):\n",
    "    w=np.random.randn(data.shape[1],1)\n",
    "    b=0.0\n",
    "    return w,b"
   ]
  },
  {
   "cell_type": "code",
   "execution_count": 107,
   "metadata": {},
   "outputs": [],
   "source": [
    "def Propogate(X,y,y_col):\n",
    "    w,b=initialize_weight(X)\n",
    "    m=X.shape[0]\n",
    "    #forward pass\n",
    "    z=np.dot(X,w)+b\n",
    "    z=z.reshape(1,-1)\n",
    "    A=sigmoid(z)\n",
    "    yt=np.array(y[y_col])\n",
    "    yt=yt.reshape(1,-1)\n",
    "    #Backward Pass\n",
    "    dz=A-yt\n",
    "    cost=(-1/m)*np.sum(yt*np.log(A)+(1-yt)*np.log(1-A))\n",
    "    dw=(1/m)*(np.dot(dz,X))\n",
    "    dw=dw.reshape(-1,1)\n",
    "    db=(1/m)*np.sum(dz)\n",
    "    assert(dw.shape == w.shape)\n",
    "    assert(db.dtype == float)\n",
    "    cost = np.squeeze(cost)\n",
    "    assert(cost.shape == ())\n",
    "    \n",
    "    grads = {\"w\":w,\"dw\": dw,\n",
    "             \"db\": db,'b':b}\n",
    "    \n",
    "    return grads, cost\n",
    "    \n",
    "    \n",
    "    "
   ]
  },
  {
   "cell_type": "code",
   "execution_count": 181,
   "metadata": {},
   "outputs": [],
   "source": [
    "x_train,x_val,Y_train,Y_val=tts(X_train,y_train,test_size=.90,random_state=20)\n",
    "grads,cost=Propogate(x_train,Y_train,'Surge_Pricing_Type')"
   ]
  },
  {
   "cell_type": "markdown",
   "metadata": {},
   "source": [
    "### Gradient Descent Optimization"
   ]
  },
  {
   "cell_type": "code",
   "execution_count": 112,
   "metadata": {},
   "outputs": [],
   "source": [
    "def optimize(X, Y, num_iterations, learning_rate, print_cost = False):\n",
    "    costs=[]\n",
    "    for i in range(num_iterations):\n",
    "        grads, cost = Propogate(X, Y,'Surge_Pricing_Type')\n",
    "        # Retrieve derivatives from grads\n",
    "        dw = grads[\"dw\"]\n",
    "        db = grads[\"db\"]\n",
    "        w=grads['w']\n",
    "        b=grads['b']\n",
    "        # update rule \n",
    "        w = w - learning_rate*dw\n",
    "        b = b - learning_rate*db\n",
    "         # Record the costs\n",
    "        if i % 100 == 0:\n",
    "            costs.append(cost)\n",
    "        \n",
    "        # Print the cost every 100 training iterations\n",
    "        if print_cost and i % 100 == 0:\n",
    "            print (\"Cost after iteration %i: %f\" %(i, cost))\n",
    "    \n",
    "    params = {\"w\": w,\n",
    "              \"b\": b}\n",
    "    \n",
    "    grads = {\"dw\": dw,\n",
    "             \"db\": db}\n",
    "    \n",
    "    return params, grads, costs\n",
    "    "
   ]
  },
  {
   "cell_type": "code",
   "execution_count": 113,
   "metadata": {},
   "outputs": [],
   "source": [
    "params, grads, costs = optimize( x_train, Y_train, num_iterations= 100, learning_rate = 0.009, print_cost = False)"
   ]
  },
  {
   "cell_type": "code",
   "execution_count": 192,
   "metadata": {},
   "outputs": [],
   "source": [
    "def predict(w, b, X):\n",
    "    \n",
    "    m = X.shape[0]\n",
    "    Y_prediction = np.zeros((1,m))\n",
    "    w = w.reshape(X.shape[1], 1)\n",
    "    \n",
    "    # Compute vector \"A\" predicting the probabilities of a cat being present in the picture\n",
    "    z=np.dot(X,w)+b\n",
    "    z=z.reshape(1,-1)\n",
    "    A = sigmoid(z) \n",
    "    ### END CODE HERE ###\n",
    "    \n",
    "    for i in range(A.shape[1]):\n",
    "        \n",
    "        # Convert probabilities A[0,i] to actual predictions p[0,i]\n",
    "        \n",
    "        if A[0,i]< 0.7:\n",
    "            Y_prediction[0,i] = 0\n",
    "        else: \n",
    "            Y_prediction[0,i] = 1\n",
    "        \n",
    "    \n",
    "    assert(Y_prediction.shape == (1, m))\n",
    "    \n",
    "    return Y_prediction"
   ]
  },
  {
   "cell_type": "code",
   "execution_count": 155,
   "metadata": {},
   "outputs": [],
   "source": [
    "w=params['w']\n",
    "b=params['b']\n",
    "v=predict(w,b,x_train)"
   ]
  },
  {
   "cell_type": "code",
   "execution_count": 193,
   "metadata": {},
   "outputs": [],
   "source": [
    "def model(X_train, Y_train, X_test, Y_test, num_iterations = 2000, learning_rate = 0.5, print_cost = False):\n",
    "    \n",
    "    \n",
    "\n",
    "    # Gradient descent \n",
    "    parameters, grads, costs = optimize(X_train, Y_train, num_iterations, learning_rate, print_cost = True)\n",
    "    \n",
    "    # Retrieve parameters w and b from dictionary \"parameters\"\n",
    "    w = parameters[\"w\"]\n",
    "    b = parameters[\"b\"]\n",
    "    \n",
    "    # Predict test/train set examples\n",
    "    Y_prediction_test = predict(w, b, X_test)\n",
    "    Y_prediction_train = predict(w, b, X_train)\n",
    "\n",
    "    ### END CODE HERE ###\n",
    "\n",
    "    # Print train/test Errors\n",
    "    #print(\"train accuracy: {} %\".format(100 - np.mean(np.abs(Y_prediction_train - Y_train.T)) * 100))\n",
    "    #print(\"test accuracy: {} %\".format(100 - np.mean(np.abs(Y_prediction_test - Y_test.T)) * 100))\n",
    "\n",
    "    \n",
    "    d = {\"costs\": costs,\n",
    "         \"Y_prediction_test\": Y_prediction_test, \n",
    "         \"Y_prediction_train\" : Y_prediction_train, \n",
    "         \"w\" : w, \n",
    "         \"b\" : b,\n",
    "         \"learning_rate\" : learning_rate,\n",
    "         \"num_iterations\": num_iterations}\n",
    "    \n",
    "    return d"
   ]
  },
  {
   "cell_type": "code",
   "execution_count": 199,
   "metadata": {},
   "outputs": [
    {
     "name": "stdout",
     "output_type": "stream",
     "text": [
      "Cost after iteration 0: 0.787897\n",
      "Cost after iteration 100: 1.233572\n",
      "Cost after iteration 200: 1.105022\n",
      "Cost after iteration 300: 1.059571\n",
      "Cost after iteration 400: 0.902436\n",
      "Cost after iteration 500: 1.379023\n",
      "Cost after iteration 600: 0.850925\n",
      "Cost after iteration 700: 0.982005\n",
      "Cost after iteration 800: 1.355756\n",
      "Cost after iteration 900: 0.679847\n",
      "Cost after iteration 1000: 2.386155\n",
      "Cost after iteration 1100: 0.766999\n",
      "Cost after iteration 1200: 1.736289\n",
      "Cost after iteration 1300: 1.103519\n",
      "Cost after iteration 1400: 0.965178\n",
      "Cost after iteration 1500: 1.079888\n",
      "Cost after iteration 1600: 1.194721\n",
      "Cost after iteration 1700: 1.404762\n",
      "Cost after iteration 1800: 0.864293\n",
      "Cost after iteration 1900: 1.054425\n",
      "train accuracy: 94674     100.0\n",
      "49699       0.0\n",
      "76251     100.0\n",
      "104731    100.0\n",
      "54113     100.0\n",
      "          ...  \n",
      "7844        0.0\n",
      "105808    100.0\n",
      "93960       0.0\n",
      "39447       0.0\n",
      "123407    100.0\n",
      "Length: 6583, dtype: float64 %\n"
     ]
    }
   ],
   "source": [
    "d = model(x_train, Y_train, x_val, Y_val, num_iterations = 2000, learning_rate = 0.5, print_cost = True)"
   ]
  },
  {
   "cell_type": "code",
   "execution_count": 138,
   "metadata": {},
   "outputs": [],
   "source": [
    "pred=d['Y_prediction_train']"
   ]
  },
  {
   "cell_type": "code",
   "execution_count": 200,
   "metadata": {},
   "outputs": [],
   "source": [
    "y_t_pr=d['Y_prediction_train']\n",
    "y_pr=d['Y_prediction_test']"
   ]
  },
  {
   "cell_type": "code",
   "execution_count": 203,
   "metadata": {},
   "outputs": [
    {
     "data": {
      "text/plain": [
       "(2406,)"
      ]
     },
     "execution_count": 203,
     "metadata": {},
     "output_type": "execute_result"
    }
   ],
   "source": [
    "y_t_pr[y_t_pr==1].shape"
   ]
  },
  {
   "cell_type": "code",
   "execution_count": 202,
   "metadata": {},
   "outputs": [
    {
     "data": {
      "text/plain": [
       "0    4243\n",
       "1    2340\n",
       "Name: Surge_Pricing_Type, dtype: int64"
      ]
     },
     "execution_count": 202,
     "metadata": {},
     "output_type": "execute_result"
    }
   ],
   "source": [
    "Y_train.Surge_Pricing_Type.value_counts()"
   ]
  },
  {
   "cell_type": "code",
   "execution_count": 206,
   "metadata": {},
   "outputs": [
    {
     "data": {
      "text/plain": [
       "(37411,)"
      ]
     },
     "execution_count": 206,
     "metadata": {},
     "output_type": "execute_result"
    }
   ],
   "source": [
    "y_pr[y_pr==0].shape"
   ]
  },
  {
   "cell_type": "code",
   "execution_count": 205,
   "metadata": {},
   "outputs": [
    {
     "data": {
      "text/plain": [
       "0    37794\n",
       "1    21454\n",
       "Name: Surge_Pricing_Type, dtype: int64"
      ]
     },
     "execution_count": 205,
     "metadata": {},
     "output_type": "execute_result"
    }
   ],
   "source": [
    "Y_val.Surge_Pricing_Type.value_counts()"
   ]
  },
  {
   "cell_type": "code",
   "execution_count": null,
   "metadata": {},
   "outputs": [],
   "source": []
  }
 ],
 "metadata": {
  "kernelspec": {
   "display_name": "Python 3",
   "language": "python",
   "name": "python3"
  },
  "language_info": {
   "codemirror_mode": {
    "name": "ipython",
    "version": 3
   },
   "file_extension": ".py",
   "mimetype": "text/x-python",
   "name": "python",
   "nbconvert_exporter": "python",
   "pygments_lexer": "ipython3",
   "version": "3.7.6"
  }
 },
 "nbformat": 4,
 "nbformat_minor": 4
}
